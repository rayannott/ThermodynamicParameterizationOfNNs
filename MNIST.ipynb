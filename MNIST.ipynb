{
  "nbformat": 4,
  "nbformat_minor": 0,
  "metadata": {
    "colab": {
      "provenance": []
    },
    "kernelspec": {
      "name": "python3",
      "display_name": "Python 3"
    },
    "accelerator": "GPU"
  },
  "cells": [
    {
      "metadata": {
        "id": "PtKvmZx-WmUu"
      },
      "cell_type": "code",
      "source": [
        "!pip install torch\n",
        "!pip install torchvision"
      ],
      "execution_count": null,
      "outputs": []
    },
    {
      "metadata": {
        "id": "bGU6NwlsXFSt"
      },
      "cell_type": "code",
      "source": [
        "import numpy as np\n",
        "from matplotlib import pyplot as plt\n",
        "import torch\n",
        "import torch.nn as nn\n",
        "import torchvision.datasets as dsets\n",
        "import torchvision.transforms as transforms\n",
        "from torch.autograd import Variable"
      ],
      "execution_count": 1,
      "outputs": []
    },
    {
      "cell_type": "code",
      "source": [
        "#@title AdLaLa optimizer\n",
        "import math\n",
        "import torch.nn.functional as F\n",
        "from torch.optim.optimizer import Optimizer, required\n",
        "\n",
        "class AdLaLa(Optimizer):\n",
        "    def __init__(self,params,lr=0.25,eps=0.05,sigA = 5e-4,T1=1e-6,cgamma=0,dgamma=0):\n",
        "        defaults = dict(lr=lr,eps=eps,sigA=sigA,T1=T1,cgamma=cgamma,dgamma=dgamma)\n",
        "        super().__init__(params,defaults)\n",
        "\n",
        "    def __setstate__(self,state):\n",
        "        super().__setstate__(state)\n",
        "\n",
        "    @torch.no_grad()\n",
        "    def stepMom(self):\n",
        "        for group in self.param_groups:\n",
        "            num = 0\n",
        "            lr = group['lr'] # Stepsize lr\n",
        "\n",
        "            for p in group['params']: # Runs through the network parameters\n",
        "\n",
        "                param_state = self.state[p]\n",
        "\n",
        "                d_p = p.grad  # Compute gradients (derivative of the loss wrt the parameters)\n",
        "\n",
        "                # Initialize the momenta to be zero\n",
        "                Mom = param_state['momentum_buffer'] = 0*torch.clone(d_p).detach()\n",
        "\n",
        "                # Take a half B step: update momenta Mom = Mom - (lr/2)*Grad, where grad = d_p, lr = stepsize\n",
        "                Mom.add_(-lr*d_p/2)\n",
        "\n",
        "                if num < 2:  # If first layer, then we want to use the Adaptive Langevin optimizer\n",
        "                    # Initialize xi variable\n",
        "                    if num == 0: # For the weights\n",
        "                        xi = param_state['xis'] = 0.1*torch.ones_like(d_p[0][0]).detach()\n",
        "                    else: # For the biases\n",
        "                        xi = param_state['xis'] = 0.1*torch.ones_like(d_p[0]).detach()\n",
        "\n",
        "                num += 1\n",
        "\n",
        "\n",
        "    @torch.no_grad()\n",
        "    def stepAOA(self):\n",
        "\n",
        "        for group in self.param_groups:\n",
        "            num = 0\n",
        "\n",
        "            lr = group['lr'] # stepsize\n",
        "            cgamma = group['cgamma']\n",
        "            dgamma = group['dgamma']\n",
        "            eps = group['eps']\n",
        "            sigA  = group['sigA']\n",
        "            T1 = group['T1']\n",
        "\n",
        "            for p in group['params']: # Runs through the networks parameters\n",
        "                param_state = self.state[p]\n",
        "\n",
        "                if num < 2: # If first layer, then we want to use the Adaptive Langevin optimizer\n",
        "                # For Adaptive langevin we use the ACDEDCAB optimizer\n",
        "                # The A and B steps are the same as for the Langevin BAOAB scheme,\n",
        "                # for more details see p.10 in our arXiv 1908.11843 paper\n",
        "\n",
        "                    # Recall the current state of the momenta and xi variables\n",
        "                    Mom = param_state['momentum_buffer']\n",
        "                    xi = param_state['xis']\n",
        "\n",
        "                    # A-step:  update parameters p = p + (lr/2)*Mom, with stepsize lr\n",
        "                    p.add_(Mom*lr/2)\n",
        "\n",
        "                    # C-step: update momenta Mom = exp(-xi*lr/2)*Mom\n",
        "                    C = torch.exp(-xi*lr/2)\n",
        "                    Mom.mul_(C)\n",
        "\n",
        "                    # D-step: update momenta Mom = Mom + sig*sqrt(lr/2)*R,\n",
        "                    # where R is a standard normal random vector with iid components\n",
        "                    shapep = p.size()\n",
        "                    D = sigA*np.sqrt(lr/2)\n",
        "                    Mom.add_(D*torch.cuda.FloatTensor(*shapep).normal_())\n",
        "\n",
        "                    # E-step:update xi = xi + eps*lr*(Mom^T Mom - N*T1), where N = # of degrees of freedom\n",
        "                    if num == 0: # For the weights\n",
        "                        E = torch.dot(Mom.reshape(shapep[0]*shapep[1],1).squeeze(),Mom.reshape(shapep[0]*shapep[1],1).squeeze())-shapep[0]*shapep[1]*T1\n",
        "                    else: # For the biases\n",
        "                        E = torch.dot(Mom.reshape(shapep[0],1).squeeze(),Mom.reshape(shapep[0],1).squeeze())-shapep[0]*T1\n",
        "\n",
        "                    F = eps*lr\n",
        "                    xi.add_(F*E)\n",
        "\n",
        "                    # D-step: update momenta Mom = Mom + D*R, D = sig*sqrt(lr/2)\n",
        "                    Mom.add_(D*torch.cuda.FloatTensor(*shapep).normal_())\n",
        "\n",
        "                    # C-step: update momenta Mom = exp(-xi*lr/2)*Mom\n",
        "                    C = torch.exp(-xi*lr/2)\n",
        "                    Mom.mul_(C)\n",
        "\n",
        "                    # A-step: update parameters p = p + (lr/2)*Mom\n",
        "                    p.add_(Mom*lr/2)\n",
        "\n",
        "                else:  # If not first layer, then we want to use the Langevin optimizer\n",
        "                # For langevin we use the BAOAB optimizer\n",
        "                # -> in practice we use AOAB, for more details see p.7 in our arXiv 1908.11843 paper\n",
        "\n",
        "                    Mom = param_state['momentum_buffer'] # Recall the current state of the momenta variables\n",
        "\n",
        "                    # A-step: update parameters p = p + (lr/2)*Mom, with stepsize lr\n",
        "                    p.add_(Mom*lr/2)\n",
        "\n",
        "                    # O-step:  update momenta Mom = cgam*Mom + dgam*R,\n",
        "                    # where R is a standard normal random vector with iid components and cgam and dgam are defined in main file\n",
        "                    shapep = p.size()\n",
        "                    Mom.mul_(cgamma).add_(torch.cuda.FloatTensor(*shapep).normal_(),alpha=dgamma)\n",
        "\n",
        "                    # A-step:  update parameters p = p + (lr/2)*Mom,\n",
        "                    p.add_(Mom*lr/2)\n",
        "\n",
        "                num += 1\n",
        "\n",
        "    @torch.no_grad()\n",
        "    def stepB(self):\n",
        "\n",
        "         for group in self.param_groups:\n",
        "            lr = group['lr']\n",
        "            for p in group['params']:\n",
        "\n",
        "                if p.grad is None:\n",
        "                    continue\n",
        "\n",
        "                # Compute gradients (derivative of the loss wrt the parameters)\n",
        "                d_p = p.grad\n",
        "\n",
        "                param_state = self.state[p]\n",
        "\n",
        "                # Recall the current state of the momenta variables\n",
        "                Mom = param_state['momentum_buffer']\n",
        "\n",
        "                # B-step: update momenta Mom = Mom - lr*grad, where grad = d_p, lr = stepsize\n",
        "                Mom.add_(-lr*d_p)\n"
      ],
      "metadata": {
        "id": "_vhaMThEz7QO"
      },
      "execution_count": 2,
      "outputs": []
    },
    {
      "metadata": {
        "id": "_bNfVLRUYqZA"
      },
      "cell_type": "code",
      "source": [
        "#@title Shared hyperparameters\n",
        "\n",
        "input_size = 784 # img_size = (28,28) ---> 28*28=784 in total\n",
        "hidden_size = 250 # number of nodes at hidden layer\n",
        "# hidden_size used to be 500.\n",
        "# by the formula from pres, ~400K trainable parameters\n",
        "num_classes = 10 # number of output classes discrete range [0,9]\n",
        "num_epochs = 20 # number of times which the entire dataset is passed throughout the model\n",
        "batch_size = 100 # the size of input data took for one iteration"
      ],
      "execution_count": 4,
      "outputs": []
    },
    {
      "metadata": {
        "id": "lCsBCXMwbpH5",
        "colab": {
          "base_uri": "https://localhost:8080/"
        },
        "outputId": "c6113c53-80b3-4691-85d8-8712c72df861"
      },
      "cell_type": "code",
      "source": [
        "#@title Downloading MNIST data\n",
        "\n",
        "train_data = dsets.MNIST(\n",
        "    root = './data',\n",
        "    train = True,\n",
        "    transform=transforms.Compose([\n",
        "            transforms.ToTensor(),\n",
        "            transforms.Normalize((0.1307,), (0.3081,))\n",
        "        ]),\n",
        "    download = True)\n",
        "\n",
        "test_data = dsets.MNIST(\n",
        "    root = './data',\n",
        "    train = False,\n",
        "    transform=transforms.Compose([\n",
        "            transforms.ToTensor(),\n",
        "            transforms.Normalize((0.1307,), (0.3081,))\n",
        "        ]),\n",
        "    download = True)"
      ],
      "execution_count": 5,
      "outputs": [
        {
          "output_type": "stream",
          "name": "stdout",
          "text": [
            "Downloading http://yann.lecun.com/exdb/mnist/train-images-idx3-ubyte.gz\n",
            "Downloading http://yann.lecun.com/exdb/mnist/train-images-idx3-ubyte.gz to ./data/MNIST/raw/train-images-idx3-ubyte.gz\n"
          ]
        },
        {
          "output_type": "stream",
          "name": "stderr",
          "text": [
            "100%|██████████| 9912422/9912422 [00:00<00:00, 47885044.74it/s]\n"
          ]
        },
        {
          "output_type": "stream",
          "name": "stdout",
          "text": [
            "Extracting ./data/MNIST/raw/train-images-idx3-ubyte.gz to ./data/MNIST/raw\n",
            "\n",
            "Downloading http://yann.lecun.com/exdb/mnist/train-labels-idx1-ubyte.gz\n",
            "Downloading http://yann.lecun.com/exdb/mnist/train-labels-idx1-ubyte.gz to ./data/MNIST/raw/train-labels-idx1-ubyte.gz\n"
          ]
        },
        {
          "output_type": "stream",
          "name": "stderr",
          "text": [
            "100%|██████████| 28881/28881 [00:00<00:00, 99782284.86it/s]\n"
          ]
        },
        {
          "output_type": "stream",
          "name": "stdout",
          "text": [
            "Extracting ./data/MNIST/raw/train-labels-idx1-ubyte.gz to ./data/MNIST/raw\n",
            "\n",
            "Downloading http://yann.lecun.com/exdb/mnist/t10k-images-idx3-ubyte.gz\n",
            "Downloading http://yann.lecun.com/exdb/mnist/t10k-images-idx3-ubyte.gz to ./data/MNIST/raw/t10k-images-idx3-ubyte.gz\n"
          ]
        },
        {
          "output_type": "stream",
          "name": "stderr",
          "text": [
            "100%|██████████| 1648877/1648877 [00:00<00:00, 68765574.88it/s]\n"
          ]
        },
        {
          "output_type": "stream",
          "name": "stdout",
          "text": [
            "Extracting ./data/MNIST/raw/t10k-images-idx3-ubyte.gz to ./data/MNIST/raw\n",
            "\n",
            "Downloading http://yann.lecun.com/exdb/mnist/t10k-labels-idx1-ubyte.gz\n",
            "Downloading http://yann.lecun.com/exdb/mnist/t10k-labels-idx1-ubyte.gz to ./data/MNIST/raw/t10k-labels-idx1-ubyte.gz\n"
          ]
        },
        {
          "output_type": "stream",
          "name": "stderr",
          "text": [
            "100%|██████████| 4542/4542 [00:00<00:00, 6272811.58it/s]\n"
          ]
        },
        {
          "output_type": "stream",
          "name": "stdout",
          "text": [
            "Extracting ./data/MNIST/raw/t10k-labels-idx1-ubyte.gz to ./data/MNIST/raw\n",
            "\n"
          ]
        }
      ]
    },
    {
      "metadata": {
        "id": "rfDPBdnYgfGp"
      },
      "cell_type": "code",
      "source": [
        "#@title Loading the data\n",
        "\n",
        "train_gen = torch.utils.data.DataLoader(dataset = train_data,\n",
        "                                        batch_size = batch_size,\n",
        "                                        shuffle = True)\n",
        "\n",
        "test_gen = torch.utils.data.DataLoader(dataset = test_data,\n",
        "                                      batch_size = batch_size,\n",
        "                                      shuffle = False)"
      ],
      "execution_count": 6,
      "outputs": []
    },
    {
      "metadata": {
        "id": "fL-YXTvghaz_"
      },
      "cell_type": "code",
      "source": [
        "#@title Define model class\n",
        "\n",
        "class SingleHiddenLayerPerceptron(nn.Module):\n",
        "  def __init__(self, input_size, hidden_size, num_classes):\n",
        "    super().__init__()\n",
        "    self.fc1 = nn.Linear(input_size, hidden_size)\n",
        "    self.relu = nn.ReLU()\n",
        "    self.fc2 = nn.Linear(hidden_size, num_classes)\n",
        "\n",
        "  def forward(self,x):\n",
        "    out = self.fc1(x)\n",
        "    out = self.relu(out)\n",
        "    out = self.fc2(out)\n",
        "    return out"
      ],
      "execution_count": 7,
      "outputs": []
    },
    {
      "cell_type": "code",
      "source": [
        "def eval_accuracy(network, test_generator):\n",
        "    correct = 0\n",
        "    total = 0\n",
        "    for images, labels in test_generator:\n",
        "        images = Variable(images.view(-1,28*28)).cuda()\n",
        "        labels = labels.cuda()\n",
        "\n",
        "        output = network(images)\n",
        "        _, predicted = torch.max(output,1)\n",
        "        correct += (predicted == labels).sum()\n",
        "        total += labels.size(0)\n",
        "    return correct.item() / total"
      ],
      "metadata": {
        "id": "15Y5MEAaenbs"
      },
      "execution_count": 8,
      "outputs": []
    },
    {
      "cell_type": "markdown",
      "source": [
        "# Adam"
      ],
      "metadata": {
        "id": "OEhrPey7L0Bl"
      }
    },
    {
      "cell_type": "code",
      "source": [
        "#@title Build the model\n",
        "\n",
        "net = SingleHiddenLayerPerceptron(input_size, hidden_size, num_classes)\n",
        "if torch.cuda.is_available():\n",
        "  net.cuda()"
      ],
      "metadata": {
        "id": "DoCsLLbAK9Cz"
      },
      "execution_count": 9,
      "outputs": []
    },
    {
      "metadata": {
        "id": "ePLIwvAFj2zH"
      },
      "cell_type": "code",
      "source": [
        "#@title Define loss-function & optimizer\n",
        "# default hp for Adam\n",
        "\n",
        "loss_function = nn.CrossEntropyLoss()\n",
        "optimizer = torch.optim.Adam(net.parameters(), lr=0.002)"
      ],
      "execution_count": 10,
      "outputs": []
    },
    {
      "metadata": {
        "id": "u75Xa5VckuTH",
        "colab": {
          "base_uri": "https://localhost:8080/"
        },
        "outputId": "9583bddc-538c-4823-aff3-58fa997ceb37"
      },
      "cell_type": "code",
      "source": [
        "#@title Training the model (Adam)\n",
        "epoch_train_loss = []\n",
        "train_loss = []\n",
        "accuracy_history = [eval_accuracy(net, test_gen)]\n",
        "\n",
        "for epoch in range(num_epochs):\n",
        "    acc_loss = 0\n",
        "    for i, (images,labels) in enumerate(train_gen):\n",
        "        images = Variable(images.view(-1,28*28)).cuda()\n",
        "        labels = Variable(labels).cuda()\n",
        "\n",
        "        optimizer.zero_grad()\n",
        "        outputs = net(images)\n",
        "        loss = loss_function(outputs, labels)\n",
        "        loss.backward()\n",
        "        optimizer.step()\n",
        "        this_loss = loss.item()\n",
        "        train_loss.append(this_loss)\n",
        "        acc_loss += this_loss\n",
        "        if (i+1) % 100 == 0:\n",
        "            print('Epoch [%d/%d], Step [%d/%d], Loss: %.4f'\n",
        "                    %(epoch+1, num_epochs, i+1, len(train_data)//batch_size, this_loss))\n",
        "    epoch_loss = acc_loss / (len(train_data)//batch_size)\n",
        "    epoch_train_loss.append(epoch_loss)\n",
        "    this_accuracy = eval_accuracy(net, test_gen)\n",
        "    accuracy_history.append(this_accuracy)\n",
        "    print(f'Epoch {epoch+1} loss={epoch_loss:.4f}; accuracy={this_accuracy:.3f}')"
      ],
      "execution_count": 11,
      "outputs": [
        {
          "output_type": "stream",
          "name": "stdout",
          "text": [
            "Epoch [1/20], Step [100/600], Loss: 0.2329\n",
            "Epoch [1/20], Step [200/600], Loss: 0.0907\n",
            "Epoch [1/20], Step [300/600], Loss: 0.1356\n",
            "Epoch [1/20], Step [400/600], Loss: 0.1764\n",
            "Epoch [1/20], Step [500/600], Loss: 0.0980\n",
            "Epoch [1/20], Step [600/600], Loss: 0.1060\n",
            "Epoch 1 loss=0.2148; accuracy=0.964\n",
            "Epoch [2/20], Step [100/600], Loss: 0.1492\n",
            "Epoch [2/20], Step [200/600], Loss: 0.0640\n",
            "Epoch [2/20], Step [300/600], Loss: 0.0269\n",
            "Epoch [2/20], Step [400/600], Loss: 0.0617\n",
            "Epoch [2/20], Step [500/600], Loss: 0.0415\n",
            "Epoch [2/20], Step [600/600], Loss: 0.0424\n",
            "Epoch 2 loss=0.0899; accuracy=0.972\n",
            "Epoch [3/20], Step [100/600], Loss: 0.0513\n",
            "Epoch [3/20], Step [200/600], Loss: 0.0287\n",
            "Epoch [3/20], Step [300/600], Loss: 0.0331\n",
            "Epoch [3/20], Step [400/600], Loss: 0.0509\n",
            "Epoch [3/20], Step [500/600], Loss: 0.0301\n",
            "Epoch [3/20], Step [600/600], Loss: 0.0547\n",
            "Epoch 3 loss=0.0656; accuracy=0.975\n",
            "Epoch [4/20], Step [100/600], Loss: 0.0060\n",
            "Epoch [4/20], Step [200/600], Loss: 0.0688\n",
            "Epoch [4/20], Step [300/600], Loss: 0.0853\n",
            "Epoch [4/20], Step [400/600], Loss: 0.0377\n",
            "Epoch [4/20], Step [500/600], Loss: 0.0704\n",
            "Epoch [4/20], Step [600/600], Loss: 0.0210\n",
            "Epoch 4 loss=0.0489; accuracy=0.976\n",
            "Epoch [5/20], Step [100/600], Loss: 0.0397\n",
            "Epoch [5/20], Step [200/600], Loss: 0.0848\n",
            "Epoch [5/20], Step [300/600], Loss: 0.0960\n",
            "Epoch [5/20], Step [400/600], Loss: 0.0244\n",
            "Epoch [5/20], Step [500/600], Loss: 0.0597\n",
            "Epoch [5/20], Step [600/600], Loss: 0.0105\n",
            "Epoch 5 loss=0.0409; accuracy=0.975\n",
            "Epoch [6/20], Step [100/600], Loss: 0.0033\n",
            "Epoch [6/20], Step [200/600], Loss: 0.0180\n",
            "Epoch [6/20], Step [300/600], Loss: 0.0367\n",
            "Epoch [6/20], Step [400/600], Loss: 0.0215\n",
            "Epoch [6/20], Step [500/600], Loss: 0.0439\n",
            "Epoch [6/20], Step [600/600], Loss: 0.1290\n",
            "Epoch 6 loss=0.0332; accuracy=0.975\n",
            "Epoch [7/20], Step [100/600], Loss: 0.0552\n",
            "Epoch [7/20], Step [200/600], Loss: 0.0040\n",
            "Epoch [7/20], Step [300/600], Loss: 0.0062\n",
            "Epoch [7/20], Step [400/600], Loss: 0.0131\n",
            "Epoch [7/20], Step [500/600], Loss: 0.0218\n",
            "Epoch [7/20], Step [600/600], Loss: 0.0552\n",
            "Epoch 7 loss=0.0321; accuracy=0.974\n",
            "Epoch [8/20], Step [100/600], Loss: 0.0118\n",
            "Epoch [8/20], Step [200/600], Loss: 0.0194\n",
            "Epoch [8/20], Step [300/600], Loss: 0.0606\n",
            "Epoch [8/20], Step [400/600], Loss: 0.0030\n",
            "Epoch [8/20], Step [500/600], Loss: 0.0277\n",
            "Epoch [8/20], Step [600/600], Loss: 0.0060\n",
            "Epoch 8 loss=0.0264; accuracy=0.976\n",
            "Epoch [9/20], Step [100/600], Loss: 0.0037\n",
            "Epoch [9/20], Step [200/600], Loss: 0.0731\n",
            "Epoch [9/20], Step [300/600], Loss: 0.0120\n",
            "Epoch [9/20], Step [400/600], Loss: 0.0022\n",
            "Epoch [9/20], Step [500/600], Loss: 0.0179\n",
            "Epoch [9/20], Step [600/600], Loss: 0.1047\n",
            "Epoch 9 loss=0.0248; accuracy=0.977\n",
            "Epoch [10/20], Step [100/600], Loss: 0.0563\n",
            "Epoch [10/20], Step [200/600], Loss: 0.0110\n",
            "Epoch [10/20], Step [300/600], Loss: 0.0575\n",
            "Epoch [10/20], Step [400/600], Loss: 0.0047\n",
            "Epoch [10/20], Step [500/600], Loss: 0.0102\n",
            "Epoch [10/20], Step [600/600], Loss: 0.0056\n",
            "Epoch 10 loss=0.0227; accuracy=0.975\n",
            "Epoch [11/20], Step [100/600], Loss: 0.0298\n",
            "Epoch [11/20], Step [200/600], Loss: 0.0231\n",
            "Epoch [11/20], Step [300/600], Loss: 0.0573\n",
            "Epoch [11/20], Step [400/600], Loss: 0.0061\n",
            "Epoch [11/20], Step [500/600], Loss: 0.0105\n",
            "Epoch [11/20], Step [600/600], Loss: 0.0532\n",
            "Epoch 11 loss=0.0233; accuracy=0.977\n",
            "Epoch [12/20], Step [100/600], Loss: 0.0002\n",
            "Epoch [12/20], Step [200/600], Loss: 0.0278\n",
            "Epoch [12/20], Step [300/600], Loss: 0.0096\n",
            "Epoch [12/20], Step [400/600], Loss: 0.0000\n",
            "Epoch [12/20], Step [500/600], Loss: 0.0005\n",
            "Epoch [12/20], Step [600/600], Loss: 0.0173\n",
            "Epoch 12 loss=0.0167; accuracy=0.980\n",
            "Epoch [13/20], Step [100/600], Loss: 0.0067\n",
            "Epoch [13/20], Step [200/600], Loss: 0.0017\n",
            "Epoch [13/20], Step [300/600], Loss: 0.0280\n",
            "Epoch [13/20], Step [400/600], Loss: 0.0107\n",
            "Epoch [13/20], Step [500/600], Loss: 0.0006\n",
            "Epoch [13/20], Step [600/600], Loss: 0.0030\n",
            "Epoch 13 loss=0.0202; accuracy=0.981\n",
            "Epoch [14/20], Step [100/600], Loss: 0.0101\n",
            "Epoch [14/20], Step [200/600], Loss: 0.0002\n",
            "Epoch [14/20], Step [300/600], Loss: 0.0007\n",
            "Epoch [14/20], Step [400/600], Loss: 0.0050\n",
            "Epoch [14/20], Step [500/600], Loss: 0.0341\n",
            "Epoch [14/20], Step [600/600], Loss: 0.0966\n",
            "Epoch 14 loss=0.0178; accuracy=0.978\n",
            "Epoch [15/20], Step [100/600], Loss: 0.0573\n",
            "Epoch [15/20], Step [200/600], Loss: 0.0014\n",
            "Epoch [15/20], Step [300/600], Loss: 0.0335\n",
            "Epoch [15/20], Step [400/600], Loss: 0.0053\n",
            "Epoch [15/20], Step [500/600], Loss: 0.0101\n",
            "Epoch [15/20], Step [600/600], Loss: 0.0007\n",
            "Epoch 15 loss=0.0150; accuracy=0.978\n",
            "Epoch [16/20], Step [100/600], Loss: 0.0038\n",
            "Epoch [16/20], Step [200/600], Loss: 0.0507\n",
            "Epoch [16/20], Step [300/600], Loss: 0.0337\n",
            "Epoch [16/20], Step [400/600], Loss: 0.0002\n",
            "Epoch [16/20], Step [500/600], Loss: 0.0103\n",
            "Epoch [16/20], Step [600/600], Loss: 0.0003\n",
            "Epoch 16 loss=0.0190; accuracy=0.975\n",
            "Epoch [17/20], Step [100/600], Loss: 0.0055\n",
            "Epoch [17/20], Step [200/600], Loss: 0.0128\n",
            "Epoch [17/20], Step [300/600], Loss: 0.0002\n",
            "Epoch [17/20], Step [400/600], Loss: 0.0005\n",
            "Epoch [17/20], Step [500/600], Loss: 0.0038\n",
            "Epoch [17/20], Step [600/600], Loss: 0.0341\n",
            "Epoch 17 loss=0.0200; accuracy=0.975\n",
            "Epoch [18/20], Step [100/600], Loss: 0.0101\n",
            "Epoch [18/20], Step [200/600], Loss: 0.0001\n",
            "Epoch [18/20], Step [300/600], Loss: 0.0014\n",
            "Epoch [18/20], Step [400/600], Loss: 0.0121\n",
            "Epoch [18/20], Step [500/600], Loss: 0.0109\n",
            "Epoch [18/20], Step [600/600], Loss: 0.0039\n",
            "Epoch 18 loss=0.0132; accuracy=0.977\n",
            "Epoch [19/20], Step [100/600], Loss: 0.0383\n",
            "Epoch [19/20], Step [200/600], Loss: 0.0051\n",
            "Epoch [19/20], Step [300/600], Loss: 0.0140\n",
            "Epoch [19/20], Step [400/600], Loss: 0.0641\n",
            "Epoch [19/20], Step [500/600], Loss: 0.0045\n",
            "Epoch [19/20], Step [600/600], Loss: 0.0017\n",
            "Epoch 19 loss=0.0157; accuracy=0.978\n",
            "Epoch [20/20], Step [100/600], Loss: 0.0155\n",
            "Epoch [20/20], Step [200/600], Loss: 0.0750\n",
            "Epoch [20/20], Step [300/600], Loss: 0.0001\n",
            "Epoch [20/20], Step [400/600], Loss: 0.0008\n",
            "Epoch [20/20], Step [500/600], Loss: 0.0529\n",
            "Epoch [20/20], Step [600/600], Loss: 0.0007\n",
            "Epoch 20 loss=0.0163; accuracy=0.980\n"
          ]
        }
      ]
    },
    {
      "cell_type": "code",
      "source": [
        "#@title Evaluating the accuracy of the model\n",
        "print(\n",
        "    f'The final accuracy is: {eval_accuracy(net, test_gen):%}'\n",
        ")"
      ],
      "metadata": {
        "colab": {
          "base_uri": "https://localhost:8080/"
        },
        "id": "5bwQPr1RMCrZ",
        "outputId": "19577eec-79ee-4171-84ca-8b023220cf48"
      },
      "execution_count": 12,
      "outputs": [
        {
          "output_type": "stream",
          "name": "stdout",
          "text": [
            "The final accuracy is: 97.980000%\n"
          ]
        }
      ]
    },
    {
      "cell_type": "markdown",
      "source": [
        "# AdLaLa"
      ],
      "metadata": {
        "id": "vaggyRwQL6UH"
      }
    },
    {
      "metadata": {
        "id": "-3EPEqbjjfAT",
        "colab": {
          "base_uri": "https://localhost:8080/"
        },
        "outputId": "b2f3d2c1-f334-4e88-816c-400b4c8cb8ec"
      },
      "cell_type": "code",
      "source": [
        "#@title Build the model\n",
        "\n",
        "net = SingleHiddenLayerPerceptron(input_size, hidden_size, num_classes)\n",
        "if torch.cuda.is_available():\n",
        "  net.cuda()\n",
        "  print('cuda on')"
      ],
      "execution_count": 13,
      "outputs": [
        {
          "output_type": "stream",
          "name": "stdout",
          "text": [
            "cuda on\n"
          ]
        }
      ]
    },
    {
      "cell_type": "code",
      "source": [
        "# AdLaLa hps\n",
        "lr = 0.1     # Step size / learning rate\n",
        "tau1 = 1e-4     # Temperature for AdLa part (this is the first part of the partitioned system)\n",
        "tau2 = 5e-5    # Temperature for Langevin (2nd part)\n",
        "gamma = 0.15    # Friction parameter for Langevin part\n",
        "sigma = 0.05    # Driving noise amplitude for Adaptive Langevin\n",
        "eps = 0.05     # Coupling coefficient for Adaptive Langevin\n",
        "cgamma = np.exp(-lr*gamma)\n",
        "dgamma = np.sqrt(1-np.exp(-2*lr*gamma))*np.sqrt(tau2)\n",
        "\n",
        "loss_function = nn.CrossEntropyLoss()\n",
        "optimizer = AdLaLa(net.parameters(), lr=lr, eps=eps, sigA=sigma, T1=tau1, cgamma=cgamma, dgamma=dgamma)"
      ],
      "metadata": {
        "id": "GKhUCZnr24Js"
      },
      "execution_count": 14,
      "outputs": []
    },
    {
      "cell_type": "code",
      "source": [
        "#@title Training the model (AdLaLa)\n",
        "\n",
        "\n",
        "epoch_train_loss_adlala = []\n",
        "train_loss_adlala = []\n",
        "accuracy_history_adlala = [eval_accuracy(net, test_gen)]\n",
        "\n",
        "for epoch in range(num_epochs):\n",
        "    acc_loss = 0\n",
        "    for i, (images,labels) in enumerate(train_gen):\n",
        "        images = Variable(images.view(-1,28*28)).cuda()\n",
        "        labels = Variable(labels).cuda()\n",
        "        outputs = net(images)\n",
        "\n",
        "        if i == 0 and epoch == 0:\n",
        "            # Do a B_(h/2) step (p := p - 0.5*h*dL) only at the very first step - after this will be incorporated into a B_h step at the end of each iteration)\n",
        "            # To do the B_(h/2) step we need to compute dL\n",
        "            output = net(images)  # The neural network's predicted labels for the provided training data\n",
        "            loss = loss_function(output, labels) # Compute the binary cross entropy loss between the predicted labels (output) and the true labels (y)\n",
        "\n",
        "            optimizer.zero_grad()\n",
        "            loss.backward(retain_graph=True) # retain_graph = True allows us to do .backward again within the same epoch\n",
        "            optimizer.stepMom()\n",
        "\n",
        "        optimizer.stepAOA()\n",
        "        output = net(images)             # The neural network's predicted labels for the provided training data\n",
        "        loss = loss_function(output, labels) # Compute the difference between the predicted labels (output) and the true labels (y) using the defined loss function\n",
        "        optimizer.zero_grad()\n",
        "        loss.backward()\n",
        "        optimizer.stepB()\n",
        "\n",
        "        this_loss = loss.item()\n",
        "        train_loss_adlala.append(this_loss)\n",
        "        acc_loss += this_loss\n",
        "        if (i+1) % 100 == 0:\n",
        "            print('Epoch [%d/%d], Step [%d/%d], Loss: %.4f'\n",
        "                    %(epoch+1, num_epochs, i+1, len(train_data)//batch_size, this_loss))\n",
        "    epoch_loss = acc_loss / (len(train_data)//batch_size)\n",
        "    epoch_train_loss_adlala.append(epoch_loss)\n",
        "    this_accuracy = eval_accuracy(net, test_gen)\n",
        "    accuracy_history_adlala.append(this_accuracy)\n",
        "    print(f'Epoch {epoch+1} loss={epoch_loss:.4f}; accuracy={this_accuracy:.3f}')"
      ],
      "metadata": {
        "colab": {
          "base_uri": "https://localhost:8080/"
        },
        "id": "8UQJi_-L1bCP",
        "outputId": "768dcc0a-ca9d-465e-9401-c8ef11df0957"
      },
      "execution_count": 15,
      "outputs": [
        {
          "output_type": "stream",
          "name": "stdout",
          "text": [
            "Epoch [1/20], Step [100/600], Loss: 0.8743\n",
            "Epoch [1/20], Step [200/600], Loss: 0.2884\n",
            "Epoch [1/20], Step [300/600], Loss: 0.5022\n",
            "Epoch [1/20], Step [400/600], Loss: 0.3979\n",
            "Epoch [1/20], Step [500/600], Loss: 0.2565\n",
            "Epoch [1/20], Step [600/600], Loss: 0.4223\n",
            "Epoch 1 loss=0.3890; accuracy=0.930\n",
            "Epoch [2/20], Step [100/600], Loss: 0.2022\n",
            "Epoch [2/20], Step [200/600], Loss: 0.1464\n",
            "Epoch [2/20], Step [300/600], Loss: 0.1095\n",
            "Epoch [2/20], Step [400/600], Loss: 0.2361\n",
            "Epoch [2/20], Step [500/600], Loss: 0.1470\n",
            "Epoch [2/20], Step [600/600], Loss: 0.1075\n",
            "Epoch 2 loss=0.2136; accuracy=0.943\n",
            "Epoch [3/20], Step [100/600], Loss: 0.1080\n",
            "Epoch [3/20], Step [200/600], Loss: 0.2624\n",
            "Epoch [3/20], Step [300/600], Loss: 0.2032\n",
            "Epoch [3/20], Step [400/600], Loss: 0.2554\n",
            "Epoch [3/20], Step [500/600], Loss: 0.1227\n",
            "Epoch [3/20], Step [600/600], Loss: 0.1473\n",
            "Epoch 3 loss=0.1700; accuracy=0.950\n",
            "Epoch [4/20], Step [100/600], Loss: 0.1897\n",
            "Epoch [4/20], Step [200/600], Loss: 0.0929\n",
            "Epoch [4/20], Step [300/600], Loss: 0.0693\n",
            "Epoch [4/20], Step [400/600], Loss: 0.2289\n",
            "Epoch [4/20], Step [500/600], Loss: 0.0778\n",
            "Epoch [4/20], Step [600/600], Loss: 0.0723\n",
            "Epoch 4 loss=0.1404; accuracy=0.956\n",
            "Epoch [5/20], Step [100/600], Loss: 0.1339\n",
            "Epoch [5/20], Step [200/600], Loss: 0.0310\n",
            "Epoch [5/20], Step [300/600], Loss: 0.1060\n",
            "Epoch [5/20], Step [400/600], Loss: 0.0842\n",
            "Epoch [5/20], Step [500/600], Loss: 0.1159\n",
            "Epoch [5/20], Step [600/600], Loss: 0.2897\n",
            "Epoch 5 loss=0.1216; accuracy=0.959\n",
            "Epoch [6/20], Step [100/600], Loss: 0.0360\n",
            "Epoch [6/20], Step [200/600], Loss: 0.1093\n",
            "Epoch [6/20], Step [300/600], Loss: 0.0926\n",
            "Epoch [6/20], Step [400/600], Loss: 0.0452\n",
            "Epoch [6/20], Step [500/600], Loss: 0.1010\n",
            "Epoch [6/20], Step [600/600], Loss: 0.0740\n",
            "Epoch 6 loss=0.1050; accuracy=0.962\n",
            "Epoch [7/20], Step [100/600], Loss: 0.0983\n",
            "Epoch [7/20], Step [200/600], Loss: 0.1364\n",
            "Epoch [7/20], Step [300/600], Loss: 0.0652\n",
            "Epoch [7/20], Step [400/600], Loss: 0.0386\n",
            "Epoch [7/20], Step [500/600], Loss: 0.2503\n",
            "Epoch [7/20], Step [600/600], Loss: 0.3063\n",
            "Epoch 7 loss=0.0924; accuracy=0.961\n",
            "Epoch [8/20], Step [100/600], Loss: 0.0986\n",
            "Epoch [8/20], Step [200/600], Loss: 0.0482\n",
            "Epoch [8/20], Step [300/600], Loss: 0.2125\n",
            "Epoch [8/20], Step [400/600], Loss: 0.0853\n",
            "Epoch [8/20], Step [500/600], Loss: 0.0493\n",
            "Epoch [8/20], Step [600/600], Loss: 0.1708\n",
            "Epoch 8 loss=0.0805; accuracy=0.962\n",
            "Epoch [9/20], Step [100/600], Loss: 0.0861\n",
            "Epoch [9/20], Step [200/600], Loss: 0.0266\n",
            "Epoch [9/20], Step [300/600], Loss: 0.0801\n",
            "Epoch [9/20], Step [400/600], Loss: 0.0548\n",
            "Epoch [9/20], Step [500/600], Loss: 0.0726\n",
            "Epoch [9/20], Step [600/600], Loss: 0.0596\n",
            "Epoch 9 loss=0.0730; accuracy=0.964\n",
            "Epoch [10/20], Step [100/600], Loss: 0.0424\n",
            "Epoch [10/20], Step [200/600], Loss: 0.0371\n",
            "Epoch [10/20], Step [300/600], Loss: 0.0973\n",
            "Epoch [10/20], Step [400/600], Loss: 0.1159\n",
            "Epoch [10/20], Step [500/600], Loss: 0.0374\n",
            "Epoch [10/20], Step [600/600], Loss: 0.1820\n",
            "Epoch 10 loss=0.0665; accuracy=0.964\n",
            "Epoch [11/20], Step [100/600], Loss: 0.0296\n",
            "Epoch [11/20], Step [200/600], Loss: 0.0452\n",
            "Epoch [11/20], Step [300/600], Loss: 0.0720\n",
            "Epoch [11/20], Step [400/600], Loss: 0.0618\n",
            "Epoch [11/20], Step [500/600], Loss: 0.0554\n",
            "Epoch [11/20], Step [600/600], Loss: 0.0282\n",
            "Epoch 11 loss=0.0585; accuracy=0.965\n",
            "Epoch [12/20], Step [100/600], Loss: 0.0202\n",
            "Epoch [12/20], Step [200/600], Loss: 0.0242\n",
            "Epoch [12/20], Step [300/600], Loss: 0.0514\n",
            "Epoch [12/20], Step [400/600], Loss: 0.0208\n",
            "Epoch [12/20], Step [500/600], Loss: 0.0229\n",
            "Epoch [12/20], Step [600/600], Loss: 0.0377\n",
            "Epoch 12 loss=0.0518; accuracy=0.966\n",
            "Epoch [13/20], Step [100/600], Loss: 0.0900\n",
            "Epoch [13/20], Step [200/600], Loss: 0.0873\n",
            "Epoch [13/20], Step [300/600], Loss: 0.0519\n",
            "Epoch [13/20], Step [400/600], Loss: 0.0525\n",
            "Epoch [13/20], Step [500/600], Loss: 0.0466\n",
            "Epoch [13/20], Step [600/600], Loss: 0.0072\n",
            "Epoch 13 loss=0.0483; accuracy=0.965\n",
            "Epoch [14/20], Step [100/600], Loss: 0.0344\n",
            "Epoch [14/20], Step [200/600], Loss: 0.0984\n",
            "Epoch [14/20], Step [300/600], Loss: 0.0467\n",
            "Epoch [14/20], Step [400/600], Loss: 0.0737\n",
            "Epoch [14/20], Step [500/600], Loss: 0.0783\n",
            "Epoch [14/20], Step [600/600], Loss: 0.0185\n",
            "Epoch 14 loss=0.0432; accuracy=0.967\n",
            "Epoch [15/20], Step [100/600], Loss: 0.0551\n",
            "Epoch [15/20], Step [200/600], Loss: 0.0346\n",
            "Epoch [15/20], Step [300/600], Loss: 0.2109\n",
            "Epoch [15/20], Step [400/600], Loss: 0.1080\n",
            "Epoch [15/20], Step [500/600], Loss: 0.0380\n",
            "Epoch [15/20], Step [600/600], Loss: 0.0117\n",
            "Epoch 15 loss=0.0397; accuracy=0.967\n",
            "Epoch [16/20], Step [100/600], Loss: 0.0196\n",
            "Epoch [16/20], Step [200/600], Loss: 0.0342\n",
            "Epoch [16/20], Step [300/600], Loss: 0.0125\n",
            "Epoch [16/20], Step [400/600], Loss: 0.0162\n",
            "Epoch [16/20], Step [500/600], Loss: 0.0216\n",
            "Epoch [16/20], Step [600/600], Loss: 0.0937\n",
            "Epoch 16 loss=0.0361; accuracy=0.966\n",
            "Epoch [17/20], Step [100/600], Loss: 0.0256\n",
            "Epoch [17/20], Step [200/600], Loss: 0.0345\n",
            "Epoch [17/20], Step [300/600], Loss: 0.0475\n",
            "Epoch [17/20], Step [400/600], Loss: 0.0569\n",
            "Epoch [17/20], Step [500/600], Loss: 0.0547\n",
            "Epoch [17/20], Step [600/600], Loss: 0.0194\n",
            "Epoch 17 loss=0.0317; accuracy=0.968\n",
            "Epoch [18/20], Step [100/600], Loss: 0.0396\n",
            "Epoch [18/20], Step [200/600], Loss: 0.0486\n",
            "Epoch [18/20], Step [300/600], Loss: 0.0272\n",
            "Epoch [18/20], Step [400/600], Loss: 0.0382\n",
            "Epoch [18/20], Step [500/600], Loss: 0.1123\n",
            "Epoch [18/20], Step [600/600], Loss: 0.0464\n",
            "Epoch 18 loss=0.0286; accuracy=0.967\n",
            "Epoch [19/20], Step [100/600], Loss: 0.0284\n",
            "Epoch [19/20], Step [200/600], Loss: 0.0223\n",
            "Epoch [19/20], Step [300/600], Loss: 0.0395\n",
            "Epoch [19/20], Step [400/600], Loss: 0.0166\n",
            "Epoch [19/20], Step [500/600], Loss: 0.0506\n",
            "Epoch [19/20], Step [600/600], Loss: 0.0179\n",
            "Epoch 19 loss=0.0254; accuracy=0.969\n",
            "Epoch [20/20], Step [100/600], Loss: 0.0247\n",
            "Epoch [20/20], Step [200/600], Loss: 0.0124\n",
            "Epoch [20/20], Step [300/600], Loss: 0.0072\n",
            "Epoch [20/20], Step [400/600], Loss: 0.0212\n",
            "Epoch [20/20], Step [500/600], Loss: 0.0061\n",
            "Epoch [20/20], Step [600/600], Loss: 0.0061\n",
            "Epoch 20 loss=0.0234; accuracy=0.969\n"
          ]
        }
      ]
    },
    {
      "metadata": {
        "id": "DTPvMW5jHB9X",
        "colab": {
          "base_uri": "https://localhost:8080/"
        },
        "outputId": "354d6bce-9c6b-41c3-e32b-445f005f1037"
      },
      "cell_type": "code",
      "source": [
        "#@title Evaluating the accuracy of the model\n",
        "\n",
        "print(\n",
        "    f'The final accuracy is: {eval_accuracy(net, test_gen):%}'\n",
        ")"
      ],
      "execution_count": 17,
      "outputs": [
        {
          "output_type": "stream",
          "name": "stdout",
          "text": [
            "The final accuracy is: 96.930000%\n"
          ]
        }
      ]
    },
    {
      "cell_type": "code",
      "source": [
        "fig, axs = plt.subplots(1, 2, figsize=(12, 4))\n",
        "axs[0].plot(accuracy_history, label='adam')\n",
        "axs[0].plot(accuracy_history_adlala, label='adlala')\n",
        "axs[0].legend()\n",
        "axs[0].grid()\n",
        "axs[0].set_title('accuracy')\n",
        "if False:\n",
        "    # average loss per epoch\n",
        "    loss_to_plot = epoch_train_loss\n",
        "    loss_to_plot_adlala = epoch_train_loss_adlala\n",
        "else:\n",
        "    # sliding average of the loss per step\n",
        "    loss_to_plot = np.convolve(train_loss, [1/27]*27)\n",
        "    loss_to_plot_adlala = np.convolve(train_loss_adlala, [1/27]*27)\n",
        "axs[1].plot(loss_to_plot, label='adam')\n",
        "axs[1].plot(loss_to_plot_adlala, label='adlala')\n",
        "axs[1].legend()\n",
        "axs[1].grid()\n",
        "axs[1].set_title('train loss')\n"
      ],
      "metadata": {
        "colab": {
          "base_uri": "https://localhost:8080/",
          "height": 273
        },
        "id": "LVYsYfTUv6XC",
        "outputId": "f67e33a9-23fc-4d27-f747-02accc1f369f"
      },
      "execution_count": 18,
      "outputs": [
        {
          "output_type": "execute_result",
          "data": {
            "text/plain": [
              "Text(0.5, 1.0, 'train loss')"
            ]
          },
          "metadata": {},
          "execution_count": 18
        },
        {
          "output_type": "display_data",
          "data": {
            "text/plain": [
              "<Figure size 1200x400 with 2 Axes>"
            ],
            "image/png": "[encoded data removed]"
          },
          "metadata": {}
        }
      ]
    },
    {
      "cell_type": "markdown",
      "source": [],
      "metadata": {
        "id": "Emu06ySFH4iA"
      }
    },
    {
      "cell_type": "code",
      "source": [
        "from PIL import Image\n",
        "import pathlib\n",
        "\n",
        "all_images = []\n",
        "\n",
        "for path in pathlib.Path('mnist-custom-data').glob('*.jpeg'):\n",
        "    img = Image.open(path)\n",
        "\n",
        "    img = img.resize((28, 28))\n",
        "    img = np.array(img).astype(float)\n",
        "    img = np.mean(img, axis=2)\n",
        "    img /= 255.\n",
        "    img = 1. - img\n",
        "    all_images.append(img)"
      ],
      "metadata": {
        "id": "pXrvNTiYH6Tc"
      },
      "execution_count": null,
      "outputs": []
    },
    {
      "cell_type": "code",
      "source": [
        "fig, axs = plt.subplots(3, 3, figsize=(4, 4))\n",
        "for i, el in enumerate(all_images):\n",
        "    axs[i // 3, i % 3].imshow(el)"
      ],
      "metadata": {
        "colab": {
          "base_uri": "https://localhost:8080/",
          "height": 372
        },
        "id": "1SO7seA6IATB",
        "outputId": "5446acd3-13a1-4e7d-f064-a73ca3e9367c"
      },
      "execution_count": null,
      "outputs": [
        {
          "output_type": "display_data",
          "data": {
            "text/plain": [
              "<Figure size 400x400 with 9 Axes>"
            ],
            "image/png": "[encoded data removed]"
          },
          "metadata": {}
        }
      ]
    },
    {
      "cell_type": "code",
      "source": [
        "all_images_numpy = np.array(all_images)\n",
        "all_images_numpy = (all_images_numpy - 0.1307)/0.3081"
      ],
      "metadata": {
        "id": "YucDVGtyrc2o"
      },
      "execution_count": null,
      "outputs": []
    },
    {
      "cell_type": "code",
      "source": [
        "img_pytorch = torch.Tensor(all_images_numpy.reshape(-1, 28*28)).cuda()\n",
        "res = net(img_pytorch)\n",
        "print(res)"
      ],
      "metadata": {
        "id": "ISTqKgD9MumU",
        "colab": {
          "base_uri": "https://localhost:8080/"
        },
        "outputId": "bbf8c9cf-c0ea-499f-9957-dd0409fa7714"
      },
      "execution_count": null,
      "outputs": [
        {
          "output_type": "stream",
          "name": "stdout",
          "text": [
            "tensor([[ -3.1765,   4.0048,   8.7786,   6.7589,  -3.2700,  -2.7849,  -2.5900,\n",
            "           5.9380,   7.5540, -13.9630],\n",
            "        [ 16.5864,  -8.3430,  13.0349,  -2.1981,   7.1118, -12.6153,  -7.0280,\n",
            "           2.7407,  -1.2379,   0.7734],\n",
            "        [ -5.0401,  -8.5636,   2.3166,   0.4159,  -7.1733,  15.9332,   0.2087,\n",
            "         -25.4562,  19.0113, -10.7534],\n",
            "        [-18.1025, -10.8337,  -1.7802,  20.9303, -25.2841,  38.2007,  -3.0213,\n",
            "         -21.0575,  13.8226,   3.7170],\n",
            "        [-12.8354,  -8.4598, -12.4816, -10.2822,  19.7372,  -0.4109, -15.2141,\n",
            "          -1.5550,  -2.0961,   9.5910],\n",
            "        [  4.5988,  12.6045,  20.5743,  14.5000, -16.9833,   0.9924,  -3.5271,\n",
            "           1.6492,   1.5134,  -8.8935],\n",
            "        [ -8.3488,   6.3411,   0.6121,   4.9147,  -3.2648,  -4.2817,  -9.5035,\n",
            "         -10.1406,   4.6502, -10.2649],\n",
            "        [  0.1899,  16.7125,   2.6788,  29.0569, -17.8596,   8.9355,  -5.3890,\n",
            "          -9.4980,  11.0041,   1.2366],\n",
            "        [  9.5079,  -8.7082,  -1.1566,  11.4402, -10.0904,  -0.9974,  -9.7880,\n",
            "          -5.9509,  12.7826,   2.9796]], device='cuda:0',\n",
            "       grad_fn=<AddmmBackward0>)\n"
          ]
        }
      ]
    },
    {
      "cell_type": "code",
      "source": [
        "_, pred = torch.max(res, 1)\n",
        "print(pred)"
      ],
      "metadata": {
        "colab": {
          "base_uri": "https://localhost:8080/"
        },
        "id": "8gs7nq85N4Y_",
        "outputId": "d1bf2d5f-bc62-4be7-ffcd-7417e30917b8"
      },
      "execution_count": null,
      "outputs": [
        {
          "output_type": "stream",
          "name": "stdout",
          "text": [
            "tensor([2, 0, 8, 5, 4, 2, 1, 3, 8], device='cuda:0')\n"
          ]
        }
      ]
    },
    {
      "cell_type": "markdown",
      "source": [],
      "metadata": {
        "id": "_70dYKpg3IfI"
      }
    },
    {
      "cell_type": "code",
      "source": [],
      "metadata": {
        "id": "D1C0sLnCrxpq"
      },
      "execution_count": null,
      "outputs": []
    }
  ]
}