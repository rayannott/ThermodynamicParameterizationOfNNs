{
  "cells": [
    {
      "cell_type": "code",
      "execution_count": null,
      "metadata": {
        "id": "PtKvmZx-WmUu"
      },
      "outputs": [],
      "source": [
        "!pip install torch\n",
        "!pip install torchvision"
      ]
    },
    {
      "cell_type": "code",
      "execution_count": 1,
      "metadata": {
        "id": "bGU6NwlsXFSt"
      },
      "outputs": [],
      "source": [
        "import numpy as np\n",
        "from matplotlib import pyplot as plt\n",
        "import torch\n",
        "import torch.nn as nn\n",
        "import torchvision.datasets as dsets\n",
        "import torchvision.transforms as transforms\n",
        "from torch.autograd import Variable"
      ]
    },
    {
      "cell_type": "code",
      "execution_count": 2,
      "metadata": {
        "id": "_vhaMThEz7QO"
      },
      "outputs": [],
      "source": [
        "#@title AdLaLa optimizer\n",
        "import math\n",
        "import torch.nn.functional as F\n",
        "from torch.optim.optimizer import Optimizer, required\n",
        "\n",
        "class AdLaLa(Optimizer):\n",
        "    def __init__(self,params,lr=0.25,eps=0.05,sigA = 5e-4,T1=1e-6,cgamma=0,dgamma=0):\n",
        "        defaults = dict(lr=lr,eps=eps,sigA=sigA,T1=T1,cgamma=cgamma,dgamma=dgamma)\n",
        "        super().__init__(params,defaults)\n",
        "\n",
        "    def __setstate__(self,state):\n",
        "        super().__setstate__(state)\n",
        "\n",
        "    @torch.no_grad()\n",
        "    def stepMom(self):\n",
        "        for group in self.param_groups:\n",
        "            num = 0\n",
        "            lr = group['lr'] # Stepsize lr\n",
        "\n",
        "            for p in group['params']: # Runs through the network parameters\n",
        "\n",
        "                param_state = self.state[p]\n",
        "\n",
        "                d_p = p.grad  # Compute gradients (derivative of the loss wrt the parameters)\n",
        "\n",
        "                # Initialize the momenta to be zero\n",
        "                Mom = param_state['momentum_buffer'] = 0*torch.clone(d_p).detach()\n",
        "\n",
        "                # Take a half B step: update momenta Mom = Mom - (lr/2)*Grad, where grad = d_p, lr = stepsize\n",
        "                Mom.add_(-lr*d_p/2)\n",
        "\n",
        "                if num < 2:  # If first layer, then we want to use the Adaptive Langevin optimizer\n",
        "                    # Initialize xi variable\n",
        "                    if num == 0: # For the weights\n",
        "                        xi = param_state['xis'] = 0.1*torch.ones_like(d_p[0][0]).detach()\n",
        "                    else: # For the biases\n",
        "                        xi = param_state['xis'] = 0.1*torch.ones_like(d_p[0]).detach()\n",
        "\n",
        "                num += 1\n",
        "\n",
        "\n",
        "    @torch.no_grad()\n",
        "    def stepAOA(self):\n",
        "\n",
        "        for group in self.param_groups:\n",
        "            num = 0\n",
        "\n",
        "            lr = group['lr'] # stepsize\n",
        "            cgamma = group['cgamma']\n",
        "            dgamma = group['dgamma']\n",
        "            eps = group['eps']\n",
        "            sigA  = group['sigA']\n",
        "            T1 = group['T1']\n",
        "\n",
        "            for p in group['params']: # Runs through the networks parameters\n",
        "                param_state = self.state[p]\n",
        "\n",
        "                if num < 2: # If first layer, then we want to use the Adaptive Langevin optimizer\n",
        "                # For Adaptive langevin we use the ACDEDCAB optimizer\n",
        "                # The A and B steps are the same as for the Langevin BAOAB scheme,\n",
        "                # for more details see p.10 in our arXiv 1908.11843 paper\n",
        "\n",
        "                    # Recall the current state of the momenta and xi variables\n",
        "                    Mom = param_state['momentum_buffer']\n",
        "                    xi = param_state['xis']\n",
        "\n",
        "                    # A-step:  update parameters p = p + (lr/2)*Mom, with stepsize lr\n",
        "                    p.add_(Mom*lr/2)\n",
        "\n",
        "                    # C-step: update momenta Mom = exp(-xi*lr/2)*Mom\n",
        "                    C = torch.exp(-xi*lr/2)\n",
        "                    Mom.mul_(C)\n",
        "\n",
        "                    # D-step: update momenta Mom = Mom + sig*sqrt(lr/2)*R,\n",
        "                    # where R is a standard normal random vector with iid components\n",
        "                    shapep = p.size()\n",
        "                    D = sigA*np.sqrt(lr/2)\n",
        "                    Mom.add_(D*torch.cuda.FloatTensor(*shapep).normal_())\n",
        "\n",
        "                    # E-step:update xi = xi + eps*lr*(Mom^T Mom - N*T1), where N = # of degrees of freedom\n",
        "                    if num == 0: # For the weights\n",
        "                        E = torch.dot(Mom.reshape(shapep[0]*shapep[1],1).squeeze(),Mom.reshape(shapep[0]*shapep[1],1).squeeze())-shapep[0]*shapep[1]*T1\n",
        "                    else: # For the biases\n",
        "                        E = torch.dot(Mom.reshape(shapep[0],1).squeeze(),Mom.reshape(shapep[0],1).squeeze())-shapep[0]*T1\n",
        "\n",
        "                    F = eps*lr\n",
        "                    xi.add_(F*E)\n",
        "\n",
        "                    # D-step: update momenta Mom = Mom + D*R, D = sig*sqrt(lr/2)\n",
        "                    Mom.add_(D*torch.cuda.FloatTensor(*shapep).normal_())\n",
        "\n",
        "                    # C-step: update momenta Mom = exp(-xi*lr/2)*Mom\n",
        "                    C = torch.exp(-xi*lr/2)\n",
        "                    Mom.mul_(C)\n",
        "\n",
        "                    # A-step: update parameters p = p + (lr/2)*Mom\n",
        "                    p.add_(Mom*lr/2)\n",
        "\n",
        "                else:  # If not first layer, then we want to use the Langevin optimizer\n",
        "                # For langevin we use the BAOAB optimizer\n",
        "                # -> in practice we use AOAB, for more details see p.7 in our arXiv 1908.11843 paper\n",
        "\n",
        "                    Mom = param_state['momentum_buffer'] # Recall the current state of the momenta variables\n",
        "\n",
        "                    # A-step: update parameters p = p + (lr/2)*Mom, with stepsize lr\n",
        "                    p.add_(Mom*lr/2)\n",
        "\n",
        "                    # O-step:  update momenta Mom = cgam*Mom + dgam*R,\n",
        "                    # where R is a standard normal random vector with iid components and cgam and dgam are defined in main file\n",
        "                    shapep = p.size()\n",
        "                    Mom.mul_(cgamma).add_(torch.cuda.FloatTensor(*shapep).normal_(),alpha=dgamma)\n",
        "\n",
        "                    # A-step:  update parameters p = p + (lr/2)*Mom,\n",
        "                    p.add_(Mom*lr/2)\n",
        "\n",
        "                num += 1\n",
        "\n",
        "    @torch.no_grad()\n",
        "    def stepB(self):\n",
        "\n",
        "         for group in self.param_groups:\n",
        "            lr = group['lr']\n",
        "            for p in group['params']:\n",
        "\n",
        "                if p.grad is None:\n",
        "                    continue\n",
        "\n",
        "                # Compute gradients (derivative of the loss wrt the parameters)\n",
        "                d_p = p.grad\n",
        "\n",
        "                param_state = self.state[p]\n",
        "\n",
        "                # Recall the current state of the momenta variables\n",
        "                Mom = param_state['momentum_buffer']\n",
        "\n",
        "                # B-step: update momenta Mom = Mom - lr*grad, where grad = d_p, lr = stepsize\n",
        "                Mom.add_(-lr*d_p)\n"
      ]
    },
    {
      "cell_type": "code",
      "execution_count": 3,
      "metadata": {
        "id": "_bNfVLRUYqZA"
      },
      "outputs": [],
      "source": [
        "#@title Shared hyperparameters\n",
        "\n",
        "input_size = 784 # img_size = (28,28) ---> 28*28=784 in total\n",
        "hidden_size = 500 # number of nodes at hidden layer\n",
        "num_classes = 10 # number of output classes discrete range [0,9]\n",
        "num_epochs = 20 # number of times which the entire dataset is passed throughout the model\n",
        "batch_size = 100 # the size of input data took for one iteration"
      ]
    },
    {
      "cell_type": "code",
      "execution_count": 4,
      "metadata": {
        "colab": {
          "base_uri": "https://localhost:8080/"
        },
        "id": "lCsBCXMwbpH5",
        "outputId": "6004e571-b540-4c6c-b51b-49467772fd64"
      },
      "outputs": [
        {
          "name": "stdout",
          "output_type": "stream",
          "text": [
            "Downloading http://yann.lecun.com/exdb/mnist/train-images-idx3-ubyte.gz\n",
            "Downloading http://yann.lecun.com/exdb/mnist/train-images-idx3-ubyte.gz to ./data/MNIST/raw/train-images-idx3-ubyte.gz\n"
          ]
        },
        {
          "name": "stderr",
          "output_type": "stream",
          "text": [
            "100%|██████████| 9912422/9912422 [00:00<00:00, 110227772.53it/s]\n"
          ]
        },
        {
          "name": "stdout",
          "output_type": "stream",
          "text": [
            "Extracting ./data/MNIST/raw/train-images-idx3-ubyte.gz to ./data/MNIST/raw\n",
            "\n",
            "Downloading http://yann.lecun.com/exdb/mnist/train-labels-idx1-ubyte.gz\n",
            "Downloading http://yann.lecun.com/exdb/mnist/train-labels-idx1-ubyte.gz to ./data/MNIST/raw/train-labels-idx1-ubyte.gz\n"
          ]
        },
        {
          "name": "stderr",
          "output_type": "stream",
          "text": [
            "100%|██████████| 28881/28881 [00:00<00:00, 68361001.03it/s]\n"
          ]
        },
        {
          "name": "stdout",
          "output_type": "stream",
          "text": [
            "Extracting ./data/MNIST/raw/train-labels-idx1-ubyte.gz to ./data/MNIST/raw\n",
            "\n",
            "Downloading http://yann.lecun.com/exdb/mnist/t10k-images-idx3-ubyte.gz\n",
            "Downloading http://yann.lecun.com/exdb/mnist/t10k-images-idx3-ubyte.gz to ./data/MNIST/raw/t10k-images-idx3-ubyte.gz\n"
          ]
        },
        {
          "name": "stderr",
          "output_type": "stream",
          "text": [
            "100%|██████████| 1648877/1648877 [00:00<00:00, 32245676.17it/s]"
          ]
        },
        {
          "name": "stdout",
          "output_type": "stream",
          "text": [
            "Extracting ./data/MNIST/raw/t10k-images-idx3-ubyte.gz to ./data/MNIST/raw\n"
          ]
        },
        {
          "name": "stderr",
          "output_type": "stream",
          "text": [
            "\n"
          ]
        },
        {
          "name": "stdout",
          "output_type": "stream",
          "text": [
            "\n",
            "Downloading http://yann.lecun.com/exdb/mnist/t10k-labels-idx1-ubyte.gz\n",
            "Downloading http://yann.lecun.com/exdb/mnist/t10k-labels-idx1-ubyte.gz to ./data/MNIST/raw/t10k-labels-idx1-ubyte.gz\n"
          ]
        },
        {
          "name": "stderr",
          "output_type": "stream",
          "text": [
            "100%|██████████| 4542/4542 [00:00<00:00, 4759062.89it/s]\n"
          ]
        },
        {
          "name": "stdout",
          "output_type": "stream",
          "text": [
            "Extracting ./data/MNIST/raw/t10k-labels-idx1-ubyte.gz to ./data/MNIST/raw\n",
            "\n"
          ]
        }
      ],
      "source": [
        "#@title Downloading MNIST data\n",
        "\n",
        "train_data = dsets.MNIST(\n",
        "    root = './data',\n",
        "    train = True,\n",
        "    transform=transforms.Compose([\n",
        "            transforms.ToTensor(),\n",
        "            transforms.Normalize((0.1307,), (0.3081,))\n",
        "        ]),\n",
        "    download = True)\n",
        "\n",
        "test_data = dsets.MNIST(\n",
        "    root = './data',\n",
        "    train = False,\n",
        "    transform=transforms.Compose([\n",
        "            transforms.ToTensor(),\n",
        "            transforms.Normalize((0.1307,), (0.3081,))\n",
        "        ]),\n",
        "    download = True)"
      ]
    },
    {
      "cell_type": "code",
      "execution_count": 5,
      "metadata": {
        "id": "rfDPBdnYgfGp"
      },
      "outputs": [],
      "source": [
        "#@title Loading the data\n",
        "\n",
        "train_gen = torch.utils.data.DataLoader(dataset = train_data,\n",
        "                                        batch_size = batch_size,\n",
        "                                        shuffle = True)\n",
        "\n",
        "test_gen = torch.utils.data.DataLoader(dataset = test_data,\n",
        "                                      batch_size = batch_size,\n",
        "                                      shuffle = False)"
      ]
    },
    {
      "cell_type": "code",
      "execution_count": null,
      "metadata": {
        "id": "fL-YXTvghaz_"
      },
      "outputs": [],
      "source": [
        "#@title Define model class\n",
        "\n",
        "class SingleHiddenLayerPerceptron(nn.Module):\n",
        "  def __init__(self, input_size, hidden_size, num_classes):\n",
        "    super().__init__()\n",
        "    self.fc1 = nn.Linear(input_size, hidden_size)\n",
        "    self.relu = nn.ReLU()\n",
        "    self.fc2 = nn.Linear(hidden_size, num_classes)\n",
        "\n",
        "  def forward(self,x):\n",
        "    out = self.fc1(x)\n",
        "    out = self.relu(out)\n",
        "    out = self.fc2(out)\n",
        "    return out"
      ]
    },
    {
      "cell_type": "code",
      "execution_count": null,
      "metadata": {
        "id": "15Y5MEAaenbs"
      },
      "outputs": [],
      "source": [
        "def eval_accuracy(network, test_generator):\n",
        "    correct = 0\n",
        "    total = 0\n",
        "    for images, labels in test_generator:\n",
        "        images = Variable(images.view(-1,28*28)).cuda()\n",
        "        labels = labels.cuda()\n",
        "\n",
        "        output = network(images)\n",
        "        _, predicted = torch.max(output,1)\n",
        "        correct += (predicted == labels).sum()\n",
        "        total += labels.size(0)\n",
        "    return correct.item() / total"
      ]
    },
    {
      "cell_type": "markdown",
      "metadata": {
        "id": "OEhrPey7L0Bl"
      },
      "source": [
        "# Adam"
      ]
    },
    {
      "cell_type": "code",
      "execution_count": null,
      "metadata": {
        "id": "DoCsLLbAK9Cz"
      },
      "outputs": [],
      "source": [
        "#@title Build the model\n",
        "\n",
        "net = SingleHiddenLayerPerceptron(input_size, hidden_size, num_classes)\n",
        "if torch.cuda.is_available():\n",
        "  net.cuda()"
      ]
    },
    {
      "cell_type": "code",
      "execution_count": null,
      "metadata": {
        "id": "ePLIwvAFj2zH"
      },
      "outputs": [],
      "source": [
        "#@title Define loss-function & optimizer\n",
        "# default hp for Adam\n",
        "\n",
        "loss_function = nn.CrossEntropyLoss()\n",
        "optimizer = torch.optim.Adam(net.parameters())"
      ]
    },
    {
      "cell_type": "code",
      "execution_count": null,
      "metadata": {
        "colab": {
          "base_uri": "https://localhost:8080/"
        },
        "id": "u75Xa5VckuTH",
        "outputId": "80d5cfb8-c6d8-44c4-fca1-c6c801e9f8ea"
      },
      "outputs": [
        {
          "name": "stdout",
          "output_type": "stream",
          "text": [
            "Epoch [1/20], Step [100/600], Loss: 0.2354\n",
            "Epoch [1/20], Step [200/600], Loss: 0.1798\n",
            "Epoch [1/20], Step [300/600], Loss: 0.2754\n",
            "Epoch [1/20], Step [400/600], Loss: 0.2753\n",
            "Epoch [1/20], Step [500/600], Loss: 0.0739\n",
            "Epoch [1/20], Step [600/600], Loss: 0.0997\n",
            "Epoch 0 loss=0.2219; accuracy=0.968\n",
            "Epoch [2/20], Step [100/600], Loss: 0.0516\n",
            "Epoch [2/20], Step [200/600], Loss: 0.0425\n",
            "Epoch [2/20], Step [300/600], Loss: 0.0281\n",
            "Epoch [2/20], Step [400/600], Loss: 0.0797\n",
            "Epoch [2/20], Step [500/600], Loss: 0.1099\n",
            "Epoch [2/20], Step [600/600], Loss: 0.0982\n",
            "Epoch 1 loss=0.0859; accuracy=0.975\n",
            "Epoch [3/20], Step [100/600], Loss: 0.0682\n",
            "Epoch [3/20], Step [200/600], Loss: 0.0300\n",
            "Epoch [3/20], Step [300/600], Loss: 0.0421\n",
            "Epoch [3/20], Step [400/600], Loss: 0.0278\n",
            "Epoch [3/20], Step [500/600], Loss: 0.0168\n",
            "Epoch [3/20], Step [600/600], Loss: 0.0502\n",
            "Epoch 2 loss=0.0562; accuracy=0.973\n",
            "Epoch [4/20], Step [100/600], Loss: 0.1031\n",
            "Epoch [4/20], Step [200/600], Loss: 0.0078\n",
            "Epoch [4/20], Step [300/600], Loss: 0.0100\n",
            "Epoch [4/20], Step [400/600], Loss: 0.0980\n",
            "Epoch [4/20], Step [500/600], Loss: 0.0628\n",
            "Epoch [4/20], Step [600/600], Loss: 0.1117\n",
            "Epoch 3 loss=0.0408; accuracy=0.979\n",
            "Epoch [5/20], Step [100/600], Loss: 0.0218\n",
            "Epoch [5/20], Step [200/600], Loss: 0.0478\n",
            "Epoch [5/20], Step [300/600], Loss: 0.0138\n",
            "Epoch [5/20], Step [400/600], Loss: 0.0122\n",
            "Epoch [5/20], Step [500/600], Loss: 0.0819\n",
            "Epoch [5/20], Step [600/600], Loss: 0.0193\n",
            "Epoch 4 loss=0.0294; accuracy=0.978\n",
            "Epoch [6/20], Step [100/600], Loss: 0.0016\n",
            "Epoch [6/20], Step [200/600], Loss: 0.0037\n",
            "Epoch [6/20], Step [300/600], Loss: 0.0161\n",
            "Epoch [6/20], Step [400/600], Loss: 0.0106\n",
            "Epoch [6/20], Step [500/600], Loss: 0.0474\n",
            "Epoch [6/20], Step [600/600], Loss: 0.0087\n",
            "Epoch 5 loss=0.0241; accuracy=0.980\n",
            "Epoch [7/20], Step [100/600], Loss: 0.0079\n",
            "Epoch [7/20], Step [200/600], Loss: 0.0104\n",
            "Epoch [7/20], Step [300/600], Loss: 0.0290\n",
            "Epoch [7/20], Step [400/600], Loss: 0.0170\n",
            "Epoch [7/20], Step [500/600], Loss: 0.0027\n",
            "Epoch [7/20], Step [600/600], Loss: 0.0022\n",
            "Epoch 6 loss=0.0184; accuracy=0.981\n",
            "Epoch [8/20], Step [100/600], Loss: 0.0015\n",
            "Epoch [8/20], Step [200/600], Loss: 0.0093\n",
            "Epoch [8/20], Step [300/600], Loss: 0.0159\n",
            "Epoch [8/20], Step [400/600], Loss: 0.0018\n",
            "Epoch [8/20], Step [500/600], Loss: 0.0255\n",
            "Epoch [8/20], Step [600/600], Loss: 0.0216\n",
            "Epoch 7 loss=0.0178; accuracy=0.976\n",
            "Epoch [9/20], Step [100/600], Loss: 0.0080\n",
            "Epoch [9/20], Step [200/600], Loss: 0.0025\n",
            "Epoch [9/20], Step [300/600], Loss: 0.0474\n",
            "Epoch [9/20], Step [400/600], Loss: 0.0489\n",
            "Epoch [9/20], Step [500/600], Loss: 0.0029\n",
            "Epoch [9/20], Step [600/600], Loss: 0.0084\n",
            "Epoch 8 loss=0.0156; accuracy=0.982\n",
            "Epoch [10/20], Step [100/600], Loss: 0.0489\n",
            "Epoch [10/20], Step [200/600], Loss: 0.0053\n",
            "Epoch [10/20], Step [300/600], Loss: 0.0088\n",
            "Epoch [10/20], Step [400/600], Loss: 0.0031\n",
            "Epoch [10/20], Step [500/600], Loss: 0.0342\n",
            "Epoch [10/20], Step [600/600], Loss: 0.0030\n",
            "Epoch 9 loss=0.0151; accuracy=0.982\n",
            "Epoch [11/20], Step [100/600], Loss: 0.0027\n",
            "Epoch [11/20], Step [200/600], Loss: 0.0011\n",
            "Epoch [11/20], Step [300/600], Loss: 0.0024\n",
            "Epoch [11/20], Step [400/600], Loss: 0.0066\n",
            "Epoch [11/20], Step [500/600], Loss: 0.0231\n",
            "Epoch [11/20], Step [600/600], Loss: 0.0484\n",
            "Epoch 10 loss=0.0102; accuracy=0.981\n",
            "Epoch [12/20], Step [100/600], Loss: 0.0065\n",
            "Epoch [12/20], Step [200/600], Loss: 0.0053\n",
            "Epoch [12/20], Step [300/600], Loss: 0.0077\n",
            "Epoch [12/20], Step [400/600], Loss: 0.0079\n",
            "Epoch [12/20], Step [500/600], Loss: 0.0013\n",
            "Epoch [12/20], Step [600/600], Loss: 0.0046\n",
            "Epoch 11 loss=0.0110; accuracy=0.979\n",
            "Epoch [13/20], Step [100/600], Loss: 0.0103\n",
            "Epoch [13/20], Step [200/600], Loss: 0.0137\n",
            "Epoch [13/20], Step [300/600], Loss: 0.0143\n",
            "Epoch [13/20], Step [400/600], Loss: 0.0038\n",
            "Epoch [13/20], Step [500/600], Loss: 0.0026\n",
            "Epoch [13/20], Step [600/600], Loss: 0.0065\n",
            "Epoch 12 loss=0.0123; accuracy=0.978\n",
            "Epoch [14/20], Step [100/600], Loss: 0.0073\n",
            "Epoch [14/20], Step [200/600], Loss: 0.0020\n",
            "Epoch [14/20], Step [300/600], Loss: 0.0016\n",
            "Epoch [14/20], Step [400/600], Loss: 0.0098\n",
            "Epoch [14/20], Step [500/600], Loss: 0.0021\n",
            "Epoch [14/20], Step [600/600], Loss: 0.0003\n",
            "Epoch 13 loss=0.0111; accuracy=0.980\n",
            "Epoch [15/20], Step [100/600], Loss: 0.0326\n",
            "Epoch [15/20], Step [200/600], Loss: 0.0028\n",
            "Epoch [15/20], Step [300/600], Loss: 0.0200\n",
            "Epoch [15/20], Step [400/600], Loss: 0.0014\n",
            "Epoch [15/20], Step [500/600], Loss: 0.0108\n",
            "Epoch [15/20], Step [600/600], Loss: 0.0209\n",
            "Epoch 14 loss=0.0096; accuracy=0.981\n",
            "Epoch [16/20], Step [100/600], Loss: 0.0009\n",
            "Epoch [16/20], Step [200/600], Loss: 0.0283\n",
            "Epoch [16/20], Step [300/600], Loss: 0.0079\n",
            "Epoch [16/20], Step [400/600], Loss: 0.0080\n",
            "Epoch [16/20], Step [500/600], Loss: 0.0004\n",
            "Epoch [16/20], Step [600/600], Loss: 0.0022\n",
            "Epoch 15 loss=0.0062; accuracy=0.981\n",
            "Epoch [17/20], Step [100/600], Loss: 0.0065\n",
            "Epoch [17/20], Step [200/600], Loss: 0.0001\n",
            "Epoch [17/20], Step [300/600], Loss: 0.0013\n",
            "Epoch [17/20], Step [400/600], Loss: 0.0016\n",
            "Epoch [17/20], Step [500/600], Loss: 0.0013\n",
            "Epoch [17/20], Step [600/600], Loss: 0.0249\n",
            "Epoch 16 loss=0.0063; accuracy=0.974\n",
            "Epoch [18/20], Step [100/600], Loss: 0.0034\n",
            "Epoch [18/20], Step [200/600], Loss: 0.0016\n",
            "Epoch [18/20], Step [300/600], Loss: 0.0611\n",
            "Epoch [18/20], Step [400/600], Loss: 0.0863\n",
            "Epoch [18/20], Step [500/600], Loss: 0.0116\n",
            "Epoch [18/20], Step [600/600], Loss: 0.0308\n",
            "Epoch 17 loss=0.0140; accuracy=0.982\n",
            "Epoch [19/20], Step [100/600], Loss: 0.0007\n",
            "Epoch [19/20], Step [200/600], Loss: 0.0044\n",
            "Epoch [19/20], Step [300/600], Loss: 0.0008\n",
            "Epoch [19/20], Step [400/600], Loss: 0.0142\n",
            "Epoch [19/20], Step [500/600], Loss: 0.0020\n",
            "Epoch [19/20], Step [600/600], Loss: 0.0090\n",
            "Epoch 18 loss=0.0064; accuracy=0.981\n",
            "Epoch [20/20], Step [100/600], Loss: 0.0012\n",
            "Epoch [20/20], Step [200/600], Loss: 0.0456\n",
            "Epoch [20/20], Step [300/600], Loss: 0.0006\n",
            "Epoch [20/20], Step [400/600], Loss: 0.0058\n",
            "Epoch [20/20], Step [500/600], Loss: 0.0003\n",
            "Epoch [20/20], Step [600/600], Loss: 0.0020\n",
            "Epoch 19 loss=0.0083; accuracy=0.981\n"
          ]
        }
      ],
      "source": [
        "#@title Training the model (Adam)\n",
        "epoch_train_loss = []\n",
        "train_loss = []\n",
        "accuracy_history = [eval_accuracy(net, test_gen)]\n",
        "\n",
        "for epoch in range(num_epochs):\n",
        "    acc_loss = 0\n",
        "    for i, (images,labels) in enumerate(train_gen):\n",
        "        images = Variable(images.view(-1,28*28)).cuda()\n",
        "        labels = Variable(labels).cuda()\n",
        "\n",
        "        optimizer.zero_grad()\n",
        "        outputs = net(images)\n",
        "        loss = loss_function(outputs, labels)\n",
        "        loss.backward()\n",
        "        optimizer.step()\n",
        "        this_loss = loss.item()\n",
        "        train_loss.append(this_loss)\n",
        "        acc_loss += this_loss\n",
        "        if (i+1) % 100 == 0:\n",
        "            print('Epoch [%d/%d], Step [%d/%d], Loss: %.4f'\n",
        "                    %(epoch+1, num_epochs, i+1, len(train_data)//batch_size, this_loss))\n",
        "    epoch_loss = acc_loss / (len(train_data)//batch_size)\n",
        "    epoch_train_loss.append(epoch_loss)\n",
        "    this_accuracy = eval_accuracy(net, test_gen)\n",
        "    accuracy_history.append(this_accuracy)\n",
        "    print(f'Epoch {epoch} loss={epoch_loss:.4f}; accuracy={this_accuracy:.3f}')"
      ]
    },
    {
      "cell_type": "code",
      "execution_count": null,
      "metadata": {
        "colab": {
          "base_uri": "https://localhost:8080/"
        },
        "id": "5bwQPr1RMCrZ",
        "outputId": "b16f4871-d0ca-4d6d-8809-6e564f575199"
      },
      "outputs": [
        {
          "name": "stdout",
          "output_type": "stream",
          "text": [
            "The final accuracy is: 98.120000%\n"
          ]
        }
      ],
      "source": [
        "#@title Evaluating the accuracy of the model\n",
        "print(\n",
        "    f'The final accuracy is: {eval_accuracy(net, test_gen):%}'\n",
        ")"
      ]
    },
    {
      "cell_type": "markdown",
      "metadata": {
        "id": "vaggyRwQL6UH"
      },
      "source": [
        "# AdLaLa"
      ]
    },
    {
      "cell_type": "code",
      "execution_count": null,
      "metadata": {
        "colab": {
          "base_uri": "https://localhost:8080/"
        },
        "id": "-3EPEqbjjfAT",
        "outputId": "1018bee8-efd2-4d61-81ab-5861d30dfe0e"
      },
      "outputs": [
        {
          "name": "stdout",
          "output_type": "stream",
          "text": [
            "cuda on\n"
          ]
        }
      ],
      "source": [
        "#@title Build the model\n",
        "\n",
        "net = SingleHiddenLayerPerceptron(input_size, hidden_size, num_classes)\n",
        "if torch.cuda.is_available():\n",
        "  net.cuda()\n",
        "  print('cuda on')"
      ]
    },
    {
      "cell_type": "code",
      "execution_count": null,
      "metadata": {
        "id": "GKhUCZnr24Js"
      },
      "outputs": [],
      "source": [
        "# AdLaLa hps\n",
        "lr = 0.1     # Step size / learning rate\n",
        "tau1 = 1e-4     # Temperature for AdLa part (this is the first part of the partitioned system)\n",
        "tau2 = 5e-5    # Temperature for Langevin (2nd part)\n",
        "gamma = 0.15    # Friction parameter for Langevin part\n",
        "sigma = 0.05    # Driving noise amplitude for Adaptive Langevin\n",
        "eps = 0.05     # Coupling coefficient for Adaptive Langevin\n",
        "cgamma = np.exp(-lr*gamma)\n",
        "dgamma = np.sqrt(1-np.exp(-2*lr*gamma))*np.sqrt(tau2)\n",
        "\n",
        "loss_function = nn.CrossEntropyLoss()\n",
        "optimizer = AdLaLa(net.parameters(), lr=lr, eps=eps, sigA=sigma, T1=tau1, cgamma=cgamma, dgamma=dgamma)"
      ]
    },
    {
      "cell_type": "code",
      "execution_count": null,
      "metadata": {
        "colab": {
          "base_uri": "https://localhost:8080/"
        },
        "id": "8UQJi_-L1bCP",
        "outputId": "85bf414a-d027-428a-f354-96c2ec46f203"
      },
      "outputs": [
        {
          "name": "stdout",
          "output_type": "stream",
          "text": [
            "Epoch [1/20], Step [100/600], Loss: 0.5208\n",
            "Epoch [1/20], Step [200/600], Loss: 0.3943\n",
            "Epoch [1/20], Step [300/600], Loss: 0.3104\n",
            "Epoch [1/20], Step [400/600], Loss: 0.3528\n",
            "Epoch [1/20], Step [500/600], Loss: 0.2017\n",
            "Epoch [1/20], Step [600/600], Loss: 0.2174\n",
            "Epoch 1 loss=0.3596; accuracy=0.932\n",
            "Epoch [2/20], Step [100/600], Loss: 0.2589\n",
            "Epoch [2/20], Step [200/600], Loss: 0.1265\n",
            "Epoch [2/20], Step [300/600], Loss: 0.1192\n",
            "Epoch [2/20], Step [400/600], Loss: 0.0970\n",
            "Epoch [2/20], Step [500/600], Loss: 0.1023\n",
            "Epoch [2/20], Step [600/600], Loss: 0.1347\n",
            "Epoch 2 loss=0.1860; accuracy=0.948\n",
            "Epoch [3/20], Step [100/600], Loss: 0.0542\n",
            "Epoch [3/20], Step [200/600], Loss: 0.0357\n",
            "Epoch [3/20], Step [300/600], Loss: 0.1239\n",
            "Epoch [3/20], Step [400/600], Loss: 0.1938\n",
            "Epoch [3/20], Step [500/600], Loss: 0.0829\n",
            "Epoch [3/20], Step [600/600], Loss: 0.1055\n",
            "Epoch 3 loss=0.1443; accuracy=0.951\n",
            "Epoch [4/20], Step [100/600], Loss: 0.0790\n",
            "Epoch [4/20], Step [200/600], Loss: 0.1026\n",
            "Epoch [4/20], Step [300/600], Loss: 0.1085\n",
            "Epoch [4/20], Step [400/600], Loss: 0.0575\n",
            "Epoch [4/20], Step [500/600], Loss: 0.0532\n",
            "Epoch [4/20], Step [600/600], Loss: 0.0462\n",
            "Epoch 4 loss=0.1159; accuracy=0.956\n",
            "Epoch [5/20], Step [100/600], Loss: 0.1261\n",
            "Epoch [5/20], Step [200/600], Loss: 0.1589\n",
            "Epoch [5/20], Step [300/600], Loss: 0.0725\n",
            "Epoch [5/20], Step [400/600], Loss: 0.0560\n",
            "Epoch [5/20], Step [500/600], Loss: 0.1067\n",
            "Epoch [5/20], Step [600/600], Loss: 0.1443\n",
            "Epoch 5 loss=0.0957; accuracy=0.960\n",
            "Epoch [6/20], Step [100/600], Loss: 0.0632\n",
            "Epoch [6/20], Step [200/600], Loss: 0.0737\n",
            "Epoch [6/20], Step [300/600], Loss: 0.1255\n",
            "Epoch [6/20], Step [400/600], Loss: 0.0691\n",
            "Epoch [6/20], Step [500/600], Loss: 0.0411\n",
            "Epoch [6/20], Step [600/600], Loss: 0.0222\n",
            "Epoch 6 loss=0.0817; accuracy=0.962\n",
            "Epoch [7/20], Step [100/600], Loss: 0.0612\n",
            "Epoch [7/20], Step [200/600], Loss: 0.0712\n",
            "Epoch [7/20], Step [300/600], Loss: 0.1739\n",
            "Epoch [7/20], Step [400/600], Loss: 0.1144\n",
            "Epoch [7/20], Step [500/600], Loss: 0.0455\n",
            "Epoch [7/20], Step [600/600], Loss: 0.2107\n",
            "Epoch 7 loss=0.0693; accuracy=0.961\n",
            "Epoch [8/20], Step [100/600], Loss: 0.0176\n",
            "Epoch [8/20], Step [200/600], Loss: 0.1146\n",
            "Epoch [8/20], Step [300/600], Loss: 0.1719\n",
            "Epoch [8/20], Step [400/600], Loss: 0.0920\n",
            "Epoch [8/20], Step [500/600], Loss: 0.0450\n",
            "Epoch [8/20], Step [600/600], Loss: 0.0355\n",
            "Epoch 8 loss=0.0582; accuracy=0.965\n",
            "Epoch [9/20], Step [100/600], Loss: 0.0281\n",
            "Epoch [9/20], Step [200/600], Loss: 0.0257\n",
            "Epoch [9/20], Step [300/600], Loss: 0.0314\n",
            "Epoch [9/20], Step [400/600], Loss: 0.0033\n",
            "Epoch [9/20], Step [500/600], Loss: 0.0324\n",
            "Epoch [9/20], Step [600/600], Loss: 0.0333\n",
            "Epoch 9 loss=0.0498; accuracy=0.962\n",
            "Epoch [10/20], Step [100/600], Loss: 0.0132\n",
            "Epoch [10/20], Step [200/600], Loss: 0.0267\n",
            "Epoch [10/20], Step [300/600], Loss: 0.0824\n",
            "Epoch [10/20], Step [400/600], Loss: 0.0052\n",
            "Epoch [10/20], Step [500/600], Loss: 0.0127\n",
            "Epoch [10/20], Step [600/600], Loss: 0.0286\n",
            "Epoch 10 loss=0.0439; accuracy=0.963\n",
            "Epoch [11/20], Step [100/600], Loss: 0.0107\n",
            "Epoch [11/20], Step [200/600], Loss: 0.0504\n",
            "Epoch [11/20], Step [300/600], Loss: 0.0577\n",
            "Epoch [11/20], Step [400/600], Loss: 0.0217\n",
            "Epoch [11/20], Step [500/600], Loss: 0.0269\n",
            "Epoch [11/20], Step [600/600], Loss: 0.0437\n",
            "Epoch 11 loss=0.0375; accuracy=0.964\n",
            "Epoch [12/20], Step [100/600], Loss: 0.0111\n",
            "Epoch [12/20], Step [200/600], Loss: 0.0601\n",
            "Epoch [12/20], Step [300/600], Loss: 0.0334\n",
            "Epoch [12/20], Step [400/600], Loss: 0.0180\n",
            "Epoch [12/20], Step [500/600], Loss: 0.0137\n",
            "Epoch [12/20], Step [600/600], Loss: 0.0492\n",
            "Epoch 12 loss=0.0323; accuracy=0.966\n",
            "Epoch [13/20], Step [100/600], Loss: 0.0086\n",
            "Epoch [13/20], Step [200/600], Loss: 0.0150\n",
            "Epoch [13/20], Step [300/600], Loss: 0.0581\n",
            "Epoch [13/20], Step [400/600], Loss: 0.0216\n",
            "Epoch [13/20], Step [500/600], Loss: 0.1144\n",
            "Epoch [13/20], Step [600/600], Loss: 0.0462\n",
            "Epoch 13 loss=0.0275; accuracy=0.967\n",
            "Epoch [14/20], Step [100/600], Loss: 0.0093\n",
            "Epoch [14/20], Step [200/600], Loss: 0.0212\n",
            "Epoch [14/20], Step [300/600], Loss: 0.0205\n",
            "Epoch [14/20], Step [400/600], Loss: 0.0111\n",
            "Epoch [14/20], Step [500/600], Loss: 0.0499\n",
            "Epoch [14/20], Step [600/600], Loss: 0.0244\n",
            "Epoch 14 loss=0.0245; accuracy=0.966\n",
            "Epoch [15/20], Step [100/600], Loss: 0.0040\n",
            "Epoch [15/20], Step [200/600], Loss: 0.0125\n",
            "Epoch [15/20], Step [300/600], Loss: 0.0078\n",
            "Epoch [15/20], Step [400/600], Loss: 0.0102\n",
            "Epoch [15/20], Step [500/600], Loss: 0.0272\n",
            "Epoch [15/20], Step [600/600], Loss: 0.0047\n",
            "Epoch 15 loss=0.0212; accuracy=0.966\n",
            "Epoch [16/20], Step [100/600], Loss: 0.0146\n",
            "Epoch [16/20], Step [200/600], Loss: 0.0083\n",
            "Epoch [16/20], Step [300/600], Loss: 0.0064\n",
            "Epoch [16/20], Step [400/600], Loss: 0.0058\n",
            "Epoch [16/20], Step [500/600], Loss: 0.0023\n",
            "Epoch [16/20], Step [600/600], Loss: 0.0148\n",
            "Epoch 16 loss=0.0191; accuracy=0.967\n",
            "Epoch [17/20], Step [100/600], Loss: 0.0432\n",
            "Epoch [17/20], Step [200/600], Loss: 0.0210\n",
            "Epoch [17/20], Step [300/600], Loss: 0.0051\n",
            "Epoch [17/20], Step [400/600], Loss: 0.0200\n",
            "Epoch [17/20], Step [500/600], Loss: 0.0179\n",
            "Epoch [17/20], Step [600/600], Loss: 0.0105\n",
            "Epoch 17 loss=0.0169; accuracy=0.967\n",
            "Epoch [18/20], Step [100/600], Loss: 0.0248\n",
            "Epoch [18/20], Step [200/600], Loss: 0.0283\n",
            "Epoch [18/20], Step [300/600], Loss: 0.0133\n",
            "Epoch [18/20], Step [400/600], Loss: 0.0097\n",
            "Epoch [18/20], Step [500/600], Loss: 0.0233\n",
            "Epoch [18/20], Step [600/600], Loss: 0.0007\n",
            "Epoch 18 loss=0.0155; accuracy=0.969\n",
            "Epoch [19/20], Step [100/600], Loss: 0.0041\n",
            "Epoch [19/20], Step [200/600], Loss: 0.0133\n",
            "Epoch [19/20], Step [300/600], Loss: 0.0255\n",
            "Epoch [19/20], Step [400/600], Loss: 0.0252\n",
            "Epoch [19/20], Step [500/600], Loss: 0.0111\n",
            "Epoch [19/20], Step [600/600], Loss: 0.0636\n",
            "Epoch 19 loss=0.0145; accuracy=0.967\n",
            "Epoch [20/20], Step [100/600], Loss: 0.0088\n",
            "Epoch [20/20], Step [200/600], Loss: 0.0130\n",
            "Epoch [20/20], Step [300/600], Loss: 0.0032\n",
            "Epoch [20/20], Step [400/600], Loss: 0.0120\n",
            "Epoch [20/20], Step [500/600], Loss: 0.0090\n",
            "Epoch [20/20], Step [600/600], Loss: 0.0253\n",
            "Epoch 20 loss=0.0127; accuracy=0.966\n"
          ]
        }
      ],
      "source": [
        "#@title Training the model (AdLaLa)\n",
        "\n",
        "\n",
        "epoch_train_loss_adlala = []\n",
        "train_loss_adlala = []\n",
        "accuracy_history_adlala = [eval_accuracy(net, test_gen)]\n",
        "\n",
        "for epoch in range(num_epochs):\n",
        "    acc_loss = 0\n",
        "    for i, (images,labels) in enumerate(train_gen):\n",
        "        images = Variable(images.view(-1,28*28)).cuda()\n",
        "        labels = Variable(labels).cuda()\n",
        "        outputs = net(images)\n",
        "\n",
        "        if i == 0 and epoch == 0:\n",
        "            # Do a B_(h/2) step (p := p - 0.5*h*dL) only at the very first step - after this will be incorporated into a B_h step at the end of each iteration)\n",
        "            # To do the B_(h/2) step we need to compute dL\n",
        "            output = net(images)  # The neural network's predicted labels for the provided training data\n",
        "            loss = loss_function(output, labels) # Compute the binary cross entropy loss between the predicted labels (output) and the true labels (y)\n",
        "\n",
        "            optimizer.zero_grad()\n",
        "            loss.backward(retain_graph=True) # retain_graph = True allows us to do .backward again within the same epoch\n",
        "            optimizer.stepMom()\n",
        "\n",
        "        optimizer.stepAOA()\n",
        "        output = net(images)             # The neural network's predicted labels for the provided training data\n",
        "        loss = loss_function(output, labels) # Compute the difference between the predicted labels (output) and the true labels (y) using the defined loss function\n",
        "        optimizer.zero_grad()\n",
        "        loss.backward()\n",
        "        optimizer.stepB()\n",
        "\n",
        "        this_loss = loss.item()\n",
        "        train_loss_adlala.append(this_loss)\n",
        "        acc_loss += this_loss\n",
        "        if (i+1) % 100 == 0:\n",
        "            print('Epoch [%d/%d], Step [%d/%d], Loss: %.4f'\n",
        "                    %(epoch+1, num_epochs, i+1, len(train_data)//batch_size, this_loss))\n",
        "    epoch_loss = acc_loss / (len(train_data)//batch_size)\n",
        "    epoch_train_loss_adlala.append(epoch_loss)\n",
        "    this_accuracy = eval_accuracy(net, test_gen)\n",
        "    accuracy_history_adlala.append(this_accuracy)\n",
        "    print(f'Epoch {epoch+1} loss={epoch_loss:.4f}; accuracy={this_accuracy:.3f}')"
      ]
    },
    {
      "cell_type": "code",
      "execution_count": null,
      "metadata": {
        "colab": {
          "base_uri": "https://localhost:8080/"
        },
        "id": "DTPvMW5jHB9X",
        "outputId": "a76b3860-e3c0-4200-e6ba-cc3fc7a725e2"
      },
      "outputs": [
        {
          "name": "stdout",
          "output_type": "stream",
          "text": [
            "The final accuracy is: 96.610000%\n"
          ]
        }
      ],
      "source": [
        "#@title Evaluating the accuracy of the model\n",
        "\n",
        "print(\n",
        "    f'The final accuracy is: {eval_accuracy(net, test_gen):%}'\n",
        ")"
      ]
    },
    {
      "cell_type": "code",
      "execution_count": null,
      "metadata": {
        "colab": {
          "base_uri": "https://localhost:8080/",
          "height": 273
        },
        "id": "LVYsYfTUv6XC",
        "outputId": "f248f6af-b85d-4711-aac0-5dc1d05bcd0d"
      },
      "outputs": [
        {
          "data": {
            "text/plain": [
              "Text(0.5, 1.0, 'train loss')"
            ]
          },
          "execution_count": 64,
          "metadata": {},
          "output_type": "execute_result"
        },
        {
          "data": {
            "image/png": "[encoded data removed]",
            "text/plain": [
              "<Figure size 1200x400 with 2 Axes>"
            ]
          },
          "metadata": {},
          "output_type": "display_data"
        }
      ],
      "source": [
        "fig, axs = plt.subplots(1, 2, figsize=(12, 4))\n",
        "axs[0].plot(accuracy_history, label='adam')\n",
        "axs[0].plot(accuracy_history_adlala, label='adlala')\n",
        "axs[0].legend()\n",
        "axs[0].grid()\n",
        "axs[0].set_title('accuracy')\n",
        "if False:\n",
        "    # average loss per epoch\n",
        "    loss_to_plot = epoch_train_loss\n",
        "    loss_to_plot_adlala = epoch_train_loss_adlala\n",
        "else:\n",
        "    # sliding average of the loss per step\n",
        "    loss_to_plot = np.convolve(train_loss, [1/27]*27)\n",
        "    loss_to_plot_adlala = np.convolve(train_loss_adlala, [1/27]*27)\n",
        "axs[1].plot(loss_to_plot, label='adam')\n",
        "axs[1].plot(loss_to_plot_adlala, label='adlala')\n",
        "axs[1].legend()\n",
        "axs[1].grid()\n",
        "axs[1].set_title('train loss')\n"
      ]
    },
    {
      "cell_type": "markdown",
      "metadata": {
        "id": "Emu06ySFH4iA"
      },
      "source": []
    },
    {
      "cell_type": "code",
      "execution_count": null,
      "metadata": {
        "id": "pXrvNTiYH6Tc"
      },
      "outputs": [],
      "source": [
        "from PIL import Image\n",
        "import pathlib\n",
        "\n",
        "all_images = []\n",
        "\n",
        "for path in pathlib.Path().glob('*.jpeg'):\n",
        "    img = Image.open(path)\n",
        "\n",
        "    img = img.resize((28, 28))\n",
        "    img = np.array(img).astype(float)\n",
        "    img = np.mean(img, axis=2)\n",
        "    img /= 255.\n",
        "    img = 1. - img\n",
        "    all_images.append(img)"
      ]
    },
    {
      "cell_type": "code",
      "execution_count": null,
      "metadata": {
        "colab": {
          "base_uri": "https://localhost:8080/",
          "height": 372
        },
        "id": "1SO7seA6IATB",
        "outputId": "5446acd3-13a1-4e7d-f064-a73ca3e9367c"
      },
      "outputs": [
        {
          "data": {
            "image/png": "[encoded data removed]",
            "text/plain": [
              "<Figure size 400x400 with 9 Axes>"
            ]
          },
          "metadata": {},
          "output_type": "display_data"
        }
      ],
      "source": [
        "fig, axs = plt.subplots(3, 3, figsize=(4, 4))\n",
        "for i, el in enumerate(all_images):\n",
        "    axs[i // 3, i % 3].imshow(el)"
      ]
    },
    {
      "cell_type": "code",
      "execution_count": null,
      "metadata": {
        "id": "YucDVGtyrc2o"
      },
      "outputs": [],
      "source": [
        "all_images_numpy = np.array(all_images)\n",
        "all_images_numpy = (all_images_numpy - 0.1307)/0.3081"
      ]
    },
    {
      "cell_type": "code",
      "execution_count": null,
      "metadata": {
        "colab": {
          "base_uri": "https://localhost:8080/"
        },
        "id": "ISTqKgD9MumU",
        "outputId": "bbf8c9cf-c0ea-499f-9957-dd0409fa7714"
      },
      "outputs": [
        {
          "name": "stdout",
          "output_type": "stream",
          "text": [
            "tensor([[ -3.1765,   4.0048,   8.7786,   6.7589,  -3.2700,  -2.7849,  -2.5900,\n",
            "           5.9380,   7.5540, -13.9630],\n",
            "        [ 16.5864,  -8.3430,  13.0349,  -2.1981,   7.1118, -12.6153,  -7.0280,\n",
            "           2.7407,  -1.2379,   0.7734],\n",
            "        [ -5.0401,  -8.5636,   2.3166,   0.4159,  -7.1733,  15.9332,   0.2087,\n",
            "         -25.4562,  19.0113, -10.7534],\n",
            "        [-18.1025, -10.8337,  -1.7802,  20.9303, -25.2841,  38.2007,  -3.0213,\n",
            "         -21.0575,  13.8226,   3.7170],\n",
            "        [-12.8354,  -8.4598, -12.4816, -10.2822,  19.7372,  -0.4109, -15.2141,\n",
            "          -1.5550,  -2.0961,   9.5910],\n",
            "        [  4.5988,  12.6045,  20.5743,  14.5000, -16.9833,   0.9924,  -3.5271,\n",
            "           1.6492,   1.5134,  -8.8935],\n",
            "        [ -8.3488,   6.3411,   0.6121,   4.9147,  -3.2648,  -4.2817,  -9.5035,\n",
            "         -10.1406,   4.6502, -10.2649],\n",
            "        [  0.1899,  16.7125,   2.6788,  29.0569, -17.8596,   8.9355,  -5.3890,\n",
            "          -9.4980,  11.0041,   1.2366],\n",
            "        [  9.5079,  -8.7082,  -1.1566,  11.4402, -10.0904,  -0.9974,  -9.7880,\n",
            "          -5.9509,  12.7826,   2.9796]], device='cuda:0',\n",
            "       grad_fn=<AddmmBackward0>)\n"
          ]
        }
      ],
      "source": [
        "img_pytorch = torch.Tensor(all_images_numpy.reshape(-1, 28*28)).cuda()\n",
        "res = net(img_pytorch)\n",
        "print(res)"
      ]
    },
    {
      "cell_type": "code",
      "execution_count": null,
      "metadata": {
        "colab": {
          "base_uri": "https://localhost:8080/"
        },
        "id": "8gs7nq85N4Y_",
        "outputId": "d1bf2d5f-bc62-4be7-ffcd-7417e30917b8"
      },
      "outputs": [
        {
          "name": "stdout",
          "output_type": "stream",
          "text": [
            "tensor([2, 0, 8, 5, 4, 2, 1, 3, 8], device='cuda:0')\n"
          ]
        }
      ],
      "source": [
        "_, pred = torch.max(res, 1)\n",
        "print(pred)"
      ]
    },
    {
      "cell_type": "markdown",
      "metadata": {
        "id": "_70dYKpg3IfI"
      },
      "source": []
    },
    {
      "cell_type": "code",
      "execution_count": null,
      "metadata": {
        "id": "D1C0sLnCrxpq"
      },
      "outputs": [],
      "source": []
    }
  ],
  "metadata": {
    "accelerator": "GPU",
    "colab": {
      "provenance": []
    },
    "kernelspec": {
      "display_name": "Python 3",
      "name": "python3"
    },
    "language_info": {
      "name": "python",
      "version": "3.11.3"
    }
  },
  "nbformat": 4,
  "nbformat_minor": 0
}
