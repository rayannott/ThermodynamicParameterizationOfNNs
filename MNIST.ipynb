{
  "cells": [
    {
      "cell_type": "code",
      "execution_count": 1,
      "metadata": {
        "id": "bGU6NwlsXFSt"
      },
      "outputs": [],
      "source": [
        "import numpy as np\n",
        "from matplotlib import pyplot as plt\n",
        "import torch\n",
        "import torch.nn as nn\n",
        "import torchvision.datasets as dsets\n",
        "import torchvision.transforms as transforms\n",
        "from torch.autograd import Variable\n",
        "\n",
        "from Optimizer_AdLaLa import AdLaLa"
      ]
    },
    {
      "cell_type": "code",
      "execution_count": 2,
      "metadata": {
        "id": "_bNfVLRUYqZA"
      },
      "outputs": [],
      "source": [
        "# Shared hyperparameters\n",
        "\n",
        "input_size = 784\n",
        "hidden_size = 250\n",
        "num_classes = 10\n",
        "num_epochs = 20\n",
        "batch_size = 100"
      ]
    },
    {
      "cell_type": "code",
      "execution_count": 3,
      "metadata": {
        "colab": {
          "base_uri": "https://localhost:8080/"
        },
        "id": "lCsBCXMwbpH5",
        "outputId": "c6113c53-80b3-4691-85d8-8712c72df861"
      },
      "outputs": [],
      "source": [
        "# Downloading MNIST data\n",
        "\n",
        "train_data = dsets.MNIST(\n",
        "    root = './data',\n",
        "    train = True,\n",
        "    transform=transforms.Compose([\n",
        "            transforms.ToTensor(),\n",
        "            transforms.Normalize((0.1307,), (0.3081,))\n",
        "        ]),\n",
        "    download = True)\n",
        "\n",
        "test_data = dsets.MNIST(\n",
        "    root = './data',\n",
        "    train = False,\n",
        "    transform=transforms.Compose([\n",
        "            transforms.ToTensor(),\n",
        "            transforms.Normalize((0.1307,), (0.3081,))\n",
        "        ]),\n",
        "    download = True)"
      ]
    },
    {
      "cell_type": "code",
      "execution_count": 4,
      "metadata": {
        "id": "rfDPBdnYgfGp"
      },
      "outputs": [],
      "source": [
        "# Loading the data\n",
        "\n",
        "train_gen = torch.utils.data.DataLoader(dataset = train_data,\n",
        "                                        batch_size = batch_size,\n",
        "                                        shuffle = True)\n",
        "\n",
        "test_gen = torch.utils.data.DataLoader(dataset = test_data,\n",
        "                                      batch_size = batch_size,\n",
        "                                      shuffle = False)"
      ]
    },
    {
      "cell_type": "code",
      "execution_count": 5,
      "metadata": {
        "id": "fL-YXTvghaz_"
      },
      "outputs": [],
      "source": [
        "# Defining model class\n",
        "\n",
        "class SingleHiddenLayerPerceptron(nn.Module):\n",
        "  def __init__(self, input_size, hidden_size, num_classes):\n",
        "    super().__init__()\n",
        "    self.fc1 = nn.Linear(input_size, hidden_size)\n",
        "    self.relu = nn.ReLU()\n",
        "    self.fc2 = nn.Linear(hidden_size, num_classes)\n",
        "\n",
        "  def forward(self,x):\n",
        "    out = self.fc1(x)\n",
        "    out = self.relu(out)\n",
        "    out = self.fc2(out)\n",
        "    return out"
      ]
    },
    {
      "cell_type": "code",
      "execution_count": 6,
      "metadata": {
        "id": "15Y5MEAaenbs"
      },
      "outputs": [],
      "source": [
        "def eval_accuracy(network, test_generator):\n",
        "    correct = 0\n",
        "    total = 0\n",
        "    for images, labels in test_generator:\n",
        "        images = Variable(images.view(-1,28*28)).cuda()\n",
        "        labels = labels.cuda()\n",
        "\n",
        "        output = network(images)\n",
        "        _, predicted = torch.max(output,1)\n",
        "        correct += (predicted == labels).sum()\n",
        "        total += labels.size(0)\n",
        "    return correct.item() / total"
      ]
    },
    {
      "cell_type": "markdown",
      "metadata": {
        "id": "OEhrPey7L0Bl"
      },
      "source": [
        "# Adam"
      ]
    },
    {
      "cell_type": "code",
      "execution_count": 7,
      "metadata": {
        "id": "DoCsLLbAK9Cz"
      },
      "outputs": [
        {
          "name": "stdout",
          "output_type": "stream",
          "text": [
            "cuda on\n"
          ]
        }
      ],
      "source": [
        "net = SingleHiddenLayerPerceptron(input_size, hidden_size, num_classes)\n",
        "if torch.cuda.is_available():\n",
        "  net.cuda()\n",
        "  print('cuda on')"
      ]
    },
    {
      "cell_type": "code",
      "execution_count": 8,
      "metadata": {
        "id": "ePLIwvAFj2zH"
      },
      "outputs": [],
      "source": [
        "# default hp for Adam\n",
        "\n",
        "loss_function = nn.CrossEntropyLoss()\n",
        "optimizer = torch.optim.Adam(net.parameters())"
      ]
    },
    {
      "cell_type": "code",
      "execution_count": 9,
      "metadata": {
        "colab": {
          "base_uri": "https://localhost:8080/"
        },
        "id": "u75Xa5VckuTH",
        "outputId": "9583bddc-538c-4823-aff3-58fa997ceb37"
      },
      "outputs": [
        {
          "name": "stdout",
          "output_type": "stream",
          "text": [
            "Epoch [1/20], Step [100/600], Loss: 0.2317\n",
            "Epoch [1/20], Step [200/600], Loss: 0.1210\n",
            "Epoch [1/20], Step [300/600], Loss: 0.0997\n",
            "Epoch [1/20], Step [400/600], Loss: 0.1503\n",
            "Epoch [1/20], Step [500/600], Loss: 0.2605\n",
            "Epoch [1/20], Step [600/600], Loss: 0.2543\n",
            "Epoch 1 loss=0.2515; accuracy=0.960\n",
            "Epoch [2/20], Step [100/600], Loss: 0.0660\n",
            "Epoch [2/20], Step [200/600], Loss: 0.0477\n",
            "Epoch [2/20], Step [300/600], Loss: 0.1098\n",
            "Epoch [2/20], Step [400/600], Loss: 0.0543\n",
            "Epoch [2/20], Step [500/600], Loss: 0.0860\n",
            "Epoch [2/20], Step [600/600], Loss: 0.1093\n",
            "Epoch 2 loss=0.1025; accuracy=0.970\n",
            "Epoch [3/20], Step [100/600], Loss: 0.0302\n",
            "Epoch [3/20], Step [200/600], Loss: 0.0331\n",
            "Epoch [3/20], Step [300/600], Loss: 0.0305\n",
            "Epoch [3/20], Step [400/600], Loss: 0.1018\n",
            "Epoch [3/20], Step [500/600], Loss: 0.0305\n",
            "Epoch [3/20], Step [600/600], Loss: 0.1668\n",
            "Epoch 3 loss=0.0675; accuracy=0.977\n",
            "Epoch [4/20], Step [100/600], Loss: 0.0433\n",
            "Epoch [4/20], Step [200/600], Loss: 0.0268\n",
            "Epoch [4/20], Step [300/600], Loss: 0.0638\n",
            "Epoch [4/20], Step [400/600], Loss: 0.0296\n",
            "Epoch [4/20], Step [500/600], Loss: 0.0464\n",
            "Epoch [4/20], Step [600/600], Loss: 0.0187\n",
            "Epoch 4 loss=0.0490; accuracy=0.977\n",
            "Epoch [5/20], Step [100/600], Loss: 0.0398\n",
            "Epoch [5/20], Step [200/600], Loss: 0.0586\n",
            "Epoch [5/20], Step [300/600], Loss: 0.0249\n",
            "Epoch [5/20], Step [400/600], Loss: 0.1090\n",
            "Epoch [5/20], Step [500/600], Loss: 0.0181\n",
            "Epoch [5/20], Step [600/600], Loss: 0.1184\n",
            "Epoch 5 loss=0.0371; accuracy=0.978\n",
            "Epoch [6/20], Step [100/600], Loss: 0.0079\n",
            "Epoch [6/20], Step [200/600], Loss: 0.0097\n",
            "Epoch [6/20], Step [300/600], Loss: 0.0202\n",
            "Epoch [6/20], Step [400/600], Loss: 0.0070\n",
            "Epoch [6/20], Step [500/600], Loss: 0.0099\n",
            "Epoch [6/20], Step [600/600], Loss: 0.0494\n",
            "Epoch 6 loss=0.0288; accuracy=0.979\n",
            "Epoch [7/20], Step [100/600], Loss: 0.0123\n",
            "Epoch [7/20], Step [200/600], Loss: 0.0056\n",
            "Epoch [7/20], Step [300/600], Loss: 0.0258\n",
            "Epoch [7/20], Step [400/600], Loss: 0.0122\n",
            "Epoch [7/20], Step [500/600], Loss: 0.0102\n",
            "Epoch [7/20], Step [600/600], Loss: 0.0122\n",
            "Epoch 7 loss=0.0232; accuracy=0.979\n",
            "Epoch [8/20], Step [100/600], Loss: 0.0027\n",
            "Epoch [8/20], Step [200/600], Loss: 0.0040\n",
            "Epoch [8/20], Step [300/600], Loss: 0.0216\n",
            "Epoch [8/20], Step [400/600], Loss: 0.0012\n",
            "Epoch [8/20], Step [500/600], Loss: 0.0136\n",
            "Epoch [8/20], Step [600/600], Loss: 0.0294\n",
            "Epoch 8 loss=0.0177; accuracy=0.978\n",
            "Epoch [9/20], Step [100/600], Loss: 0.0119\n",
            "Epoch [9/20], Step [200/600], Loss: 0.0115\n",
            "Epoch [9/20], Step [300/600], Loss: 0.0030\n",
            "Epoch [9/20], Step [400/600], Loss: 0.0054\n",
            "Epoch [9/20], Step [500/600], Loss: 0.0241\n",
            "Epoch [9/20], Step [600/600], Loss: 0.0077\n",
            "Epoch 9 loss=0.0162; accuracy=0.976\n",
            "Epoch [10/20], Step [100/600], Loss: 0.0117\n",
            "Epoch [10/20], Step [200/600], Loss: 0.0019\n",
            "Epoch [10/20], Step [300/600], Loss: 0.0200\n",
            "Epoch [10/20], Step [400/600], Loss: 0.0231\n",
            "Epoch [10/20], Step [500/600], Loss: 0.0123\n",
            "Epoch [10/20], Step [600/600], Loss: 0.0145\n",
            "Epoch 10 loss=0.0145; accuracy=0.980\n",
            "Epoch [11/20], Step [100/600], Loss: 0.0119\n",
            "Epoch [11/20], Step [200/600], Loss: 0.0207\n",
            "Epoch [11/20], Step [300/600], Loss: 0.0051\n",
            "Epoch [11/20], Step [400/600], Loss: 0.0053\n",
            "Epoch [11/20], Step [500/600], Loss: 0.0076\n",
            "Epoch [11/20], Step [600/600], Loss: 0.0409\n",
            "Epoch 11 loss=0.0117; accuracy=0.978\n",
            "Epoch [12/20], Step [100/600], Loss: 0.0058\n",
            "Epoch [12/20], Step [200/600], Loss: 0.0017\n",
            "Epoch [12/20], Step [300/600], Loss: 0.0044\n",
            "Epoch [12/20], Step [400/600], Loss: 0.0070\n",
            "Epoch [12/20], Step [500/600], Loss: 0.0040\n",
            "Epoch [12/20], Step [600/600], Loss: 0.0010\n",
            "Epoch 12 loss=0.0139; accuracy=0.978\n",
            "Epoch [13/20], Step [100/600], Loss: 0.0228\n",
            "Epoch [13/20], Step [200/600], Loss: 0.0003\n",
            "Epoch [13/20], Step [300/600], Loss: 0.0003\n",
            "Epoch [13/20], Step [400/600], Loss: 0.0011\n",
            "Epoch [13/20], Step [500/600], Loss: 0.0064\n",
            "Epoch [13/20], Step [600/600], Loss: 0.0114\n",
            "Epoch 13 loss=0.0094; accuracy=0.980\n",
            "Epoch [14/20], Step [100/600], Loss: 0.0042\n",
            "Epoch [14/20], Step [200/600], Loss: 0.0011\n",
            "Epoch [14/20], Step [300/600], Loss: 0.0067\n",
            "Epoch [14/20], Step [400/600], Loss: 0.0072\n",
            "Epoch [14/20], Step [500/600], Loss: 0.0018\n",
            "Epoch [14/20], Step [600/600], Loss: 0.0184\n",
            "Epoch 14 loss=0.0090; accuracy=0.978\n",
            "Epoch [15/20], Step [100/600], Loss: 0.0006\n",
            "Epoch [15/20], Step [200/600], Loss: 0.0231\n",
            "Epoch [15/20], Step [300/600], Loss: 0.0194\n",
            "Epoch [15/20], Step [400/600], Loss: 0.0293\n",
            "Epoch [15/20], Step [500/600], Loss: 0.0129\n",
            "Epoch [15/20], Step [600/600], Loss: 0.0011\n",
            "Epoch 15 loss=0.0091; accuracy=0.981\n",
            "Epoch [16/20], Step [100/600], Loss: 0.0022\n",
            "Epoch [16/20], Step [200/600], Loss: 0.0008\n",
            "Epoch [16/20], Step [300/600], Loss: 0.0009\n",
            "Epoch [16/20], Step [400/600], Loss: 0.0027\n",
            "Epoch [16/20], Step [500/600], Loss: 0.0003\n",
            "Epoch [16/20], Step [600/600], Loss: 0.0006\n",
            "Epoch 16 loss=0.0059; accuracy=0.978\n",
            "Epoch [17/20], Step [100/600], Loss: 0.0220\n",
            "Epoch [17/20], Step [200/600], Loss: 0.0009\n",
            "Epoch [17/20], Step [300/600], Loss: 0.0004\n",
            "Epoch [17/20], Step [400/600], Loss: 0.0213\n",
            "Epoch [17/20], Step [500/600], Loss: 0.0075\n",
            "Epoch [17/20], Step [600/600], Loss: 0.0294\n",
            "Epoch 17 loss=0.0092; accuracy=0.980\n",
            "Epoch [18/20], Step [100/600], Loss: 0.0019\n",
            "Epoch [18/20], Step [200/600], Loss: 0.0008\n",
            "Epoch [18/20], Step [300/600], Loss: 0.0022\n",
            "Epoch [18/20], Step [400/600], Loss: 0.0008\n",
            "Epoch [18/20], Step [500/600], Loss: 0.0005\n",
            "Epoch [18/20], Step [600/600], Loss: 0.0073\n",
            "Epoch 18 loss=0.0085; accuracy=0.979\n",
            "Epoch [19/20], Step [100/600], Loss: 0.0223\n",
            "Epoch [19/20], Step [200/600], Loss: 0.0047\n",
            "Epoch [19/20], Step [300/600], Loss: 0.0017\n",
            "Epoch [19/20], Step [400/600], Loss: 0.0036\n",
            "Epoch [19/20], Step [500/600], Loss: 0.0004\n",
            "Epoch [19/20], Step [600/600], Loss: 0.0015\n",
            "Epoch 19 loss=0.0076; accuracy=0.981\n",
            "Epoch [20/20], Step [100/600], Loss: 0.0128\n",
            "Epoch [20/20], Step [200/600], Loss: 0.0003\n",
            "Epoch [20/20], Step [300/600], Loss: 0.0011\n",
            "Epoch [20/20], Step [400/600], Loss: 0.0511\n",
            "Epoch [20/20], Step [500/600], Loss: 0.0463\n",
            "Epoch [20/20], Step [600/600], Loss: 0.0118\n",
            "Epoch 20 loss=0.0090; accuracy=0.980\n"
          ]
        }
      ],
      "source": [
        "epoch_train_loss = []\n",
        "train_loss = []\n",
        "accuracy_history = [eval_accuracy(net, test_gen)]\n",
        "\n",
        "for epoch in range(num_epochs):\n",
        "    acc_loss = 0\n",
        "    for i, (images,labels) in enumerate(train_gen):\n",
        "        images = Variable(images.view(-1,28*28)).cuda()\n",
        "        labels = Variable(labels).cuda()\n",
        "\n",
        "        optimizer.zero_grad()\n",
        "        outputs = net(images)\n",
        "        loss = loss_function(outputs, labels)\n",
        "        loss.backward()\n",
        "        optimizer.step()\n",
        "        this_loss = loss.item()\n",
        "        train_loss.append(this_loss)\n",
        "        acc_loss += this_loss\n",
        "        if (i+1) % 100 == 0:\n",
        "            print('Epoch [%d/%d], Step [%d/%d], Loss: %.4f'\n",
        "                    %(epoch+1, num_epochs, i+1, len(train_data)//batch_size, this_loss))\n",
        "    epoch_loss = acc_loss / (len(train_data)//batch_size)\n",
        "    epoch_train_loss.append(epoch_loss)\n",
        "    this_accuracy = eval_accuracy(net, test_gen)\n",
        "    accuracy_history.append(this_accuracy)\n",
        "    print(f'Epoch {epoch+1} loss={epoch_loss:.4f}; accuracy={this_accuracy:.3f}')"
      ]
    },
    {
      "cell_type": "code",
      "execution_count": 10,
      "metadata": {
        "colab": {
          "base_uri": "https://localhost:8080/"
        },
        "id": "5bwQPr1RMCrZ",
        "outputId": "19577eec-79ee-4171-84ca-8b023220cf48"
      },
      "outputs": [
        {
          "name": "stdout",
          "output_type": "stream",
          "text": [
            "The final accuracy is: 97.970000%\n"
          ]
        }
      ],
      "source": [
        "print(\n",
        "    f'The final accuracy is: {eval_accuracy(net, test_gen):%}'\n",
        ")"
      ]
    },
    {
      "cell_type": "code",
      "execution_count": null,
      "metadata": {},
      "outputs": [],
      "source": []
    },
    {
      "cell_type": "markdown",
      "metadata": {
        "id": "vaggyRwQL6UH"
      },
      "source": [
        "# AdLaLa"
      ]
    },
    {
      "cell_type": "code",
      "execution_count": 7,
      "metadata": {
        "colab": {
          "base_uri": "https://localhost:8080/"
        },
        "id": "-3EPEqbjjfAT",
        "outputId": "b2f3d2c1-f334-4e88-816c-400b4c8cb8ec"
      },
      "outputs": [
        {
          "name": "stdout",
          "output_type": "stream",
          "text": [
            "cuda on\n"
          ]
        }
      ],
      "source": [
        "net = SingleHiddenLayerPerceptron(input_size, hidden_size, num_classes)\n",
        "if torch.cuda.is_available():\n",
        "  net.cuda()\n",
        "  print('cuda on')"
      ]
    },
    {
      "cell_type": "code",
      "execution_count": 8,
      "metadata": {
        "id": "GKhUCZnr24Js"
      },
      "outputs": [],
      "source": [
        "lr = 0.1     # Step size / learning rate\n",
        "tau1 = 1e-4     # Temperature for AdLa part (this is the first part of the partitioned system)\n",
        "tau2 = 5e-5    # Temperature for Langevin (2nd part)\n",
        "gamma = 0.15    # Friction parameter for Langevin part\n",
        "sigma = 0.05    # Driving noise amplitude for Adaptive Langevin\n",
        "eps = 0.05     # Coupling coefficient for Adaptive Langevin\n",
        "cgamma = np.exp(-lr*gamma)\n",
        "dgamma = np.sqrt(1-np.exp(-2*lr*gamma))*np.sqrt(tau2)\n",
        "\n",
        "loss_function = nn.CrossEntropyLoss()\n",
        "optimizer = AdLaLa(net.parameters(), lr=lr, eps=eps, sigA=sigma, T1=tau1, cgamma=cgamma, dgamma=dgamma)"
      ]
    },
    {
      "cell_type": "code",
      "execution_count": 9,
      "metadata": {
        "colab": {
          "base_uri": "https://localhost:8080/"
        },
        "id": "8UQJi_-L1bCP",
        "outputId": "768dcc0a-ca9d-465e-9401-c8ef11df0957"
      },
      "outputs": [
        {
          "name": "stdout",
          "output_type": "stream",
          "text": [
            "Epoch [1/20], Step [100/600], Loss: 0.3451\n",
            "Epoch [1/20], Step [200/600], Loss: 0.2581\n",
            "Epoch [1/20], Step [300/600], Loss: 0.3129\n",
            "Epoch [1/20], Step [400/600], Loss: 0.3102\n",
            "Epoch [1/20], Step [500/600], Loss: 0.1756\n",
            "Epoch [1/20], Step [600/600], Loss: 0.2332\n",
            "Epoch 1 loss=0.3941; accuracy=0.925\n",
            "Epoch [2/20], Step [100/600], Loss: 0.2449\n",
            "Epoch [2/20], Step [200/600], Loss: 0.2163\n",
            "Epoch [2/20], Step [300/600], Loss: 0.2750\n",
            "Epoch [2/20], Step [400/600], Loss: 0.1431\n",
            "Epoch [2/20], Step [500/600], Loss: 0.2604\n",
            "Epoch [2/20], Step [600/600], Loss: 0.1965\n",
            "Epoch 2 loss=0.2192; accuracy=0.944\n",
            "Epoch [3/20], Step [100/600], Loss: 0.1765\n",
            "Epoch [3/20], Step [200/600], Loss: 0.1565\n",
            "Epoch [3/20], Step [300/600], Loss: 0.1289\n",
            "Epoch [3/20], Step [400/600], Loss: 0.2571\n",
            "Epoch [3/20], Step [500/600], Loss: 0.1644\n",
            "Epoch [3/20], Step [600/600], Loss: 0.0964\n",
            "Epoch 3 loss=0.1726; accuracy=0.951\n",
            "Epoch [4/20], Step [100/600], Loss: 0.2334\n",
            "Epoch [4/20], Step [200/600], Loss: 0.2320\n",
            "Epoch [4/20], Step [300/600], Loss: 0.1478\n",
            "Epoch [4/20], Step [400/600], Loss: 0.1445\n",
            "Epoch [4/20], Step [500/600], Loss: 0.1369\n",
            "Epoch [4/20], Step [600/600], Loss: 0.2026\n",
            "Epoch 4 loss=0.1421; accuracy=0.952\n",
            "Epoch [5/20], Step [100/600], Loss: 0.1200\n",
            "Epoch [5/20], Step [200/600], Loss: 0.1288\n",
            "Epoch [5/20], Step [300/600], Loss: 0.0296\n",
            "Epoch [5/20], Step [400/600], Loss: 0.1313\n",
            "Epoch [5/20], Step [500/600], Loss: 0.1025\n",
            "Epoch [5/20], Step [600/600], Loss: 0.0956\n",
            "Epoch 5 loss=0.1215; accuracy=0.956\n",
            "Epoch [6/20], Step [100/600], Loss: 0.0996\n",
            "Epoch [6/20], Step [200/600], Loss: 0.1560\n",
            "Epoch [6/20], Step [300/600], Loss: 0.0197\n",
            "Epoch [6/20], Step [400/600], Loss: 0.1063\n",
            "Epoch [6/20], Step [500/600], Loss: 0.0820\n",
            "Epoch [6/20], Step [600/600], Loss: 0.1444\n",
            "Epoch 6 loss=0.1049; accuracy=0.962\n",
            "Epoch [7/20], Step [100/600], Loss: 0.1427\n",
            "Epoch [7/20], Step [200/600], Loss: 0.1591\n",
            "Epoch [7/20], Step [300/600], Loss: 0.0481\n",
            "Epoch [7/20], Step [400/600], Loss: 0.1181\n",
            "Epoch [7/20], Step [500/600], Loss: 0.1133\n",
            "Epoch [7/20], Step [600/600], Loss: 0.2162\n",
            "Epoch 7 loss=0.0946; accuracy=0.963\n",
            "Epoch [8/20], Step [100/600], Loss: 0.0715\n",
            "Epoch [8/20], Step [200/600], Loss: 0.1272\n",
            "Epoch [8/20], Step [300/600], Loss: 0.0549\n",
            "Epoch [8/20], Step [400/600], Loss: 0.0721\n",
            "Epoch [8/20], Step [500/600], Loss: 0.1283\n",
            "Epoch [8/20], Step [600/600], Loss: 0.0768\n",
            "Epoch 8 loss=0.0833; accuracy=0.963\n",
            "Epoch [9/20], Step [100/600], Loss: 0.0619\n",
            "Epoch [9/20], Step [200/600], Loss: 0.1156\n",
            "Epoch [9/20], Step [300/600], Loss: 0.0628\n",
            "Epoch [9/20], Step [400/600], Loss: 0.0651\n",
            "Epoch [9/20], Step [500/600], Loss: 0.0328\n",
            "Epoch [9/20], Step [600/600], Loss: 0.0249\n",
            "Epoch 9 loss=0.0735; accuracy=0.963\n",
            "Epoch [10/20], Step [100/600], Loss: 0.0257\n",
            "Epoch [10/20], Step [200/600], Loss: 0.0908\n",
            "Epoch [10/20], Step [300/600], Loss: 0.0601\n",
            "Epoch [10/20], Step [400/600], Loss: 0.0696\n",
            "Epoch [10/20], Step [500/600], Loss: 0.0352\n",
            "Epoch [10/20], Step [600/600], Loss: 0.0222\n",
            "Epoch 10 loss=0.0654; accuracy=0.963\n",
            "Epoch [11/20], Step [100/600], Loss: 0.0676\n",
            "Epoch [11/20], Step [200/600], Loss: 0.0905\n",
            "Epoch [11/20], Step [300/600], Loss: 0.1171\n",
            "Epoch [11/20], Step [400/600], Loss: 0.1216\n",
            "Epoch [11/20], Step [500/600], Loss: 0.0633\n",
            "Epoch [11/20], Step [600/600], Loss: 0.0032\n",
            "Epoch 11 loss=0.0586; accuracy=0.965\n",
            "Epoch [12/20], Step [100/600], Loss: 0.0325\n",
            "Epoch [12/20], Step [200/600], Loss: 0.0153\n",
            "Epoch [12/20], Step [300/600], Loss: 0.0742\n",
            "Epoch [12/20], Step [400/600], Loss: 0.0074\n",
            "Epoch [12/20], Step [500/600], Loss: 0.0421\n",
            "Epoch [12/20], Step [600/600], Loss: 0.0880\n",
            "Epoch 12 loss=0.0529; accuracy=0.964\n",
            "Epoch [13/20], Step [100/600], Loss: 0.0149\n",
            "Epoch [13/20], Step [200/600], Loss: 0.0655\n",
            "Epoch [13/20], Step [300/600], Loss: 0.0254\n",
            "Epoch [13/20], Step [400/600], Loss: 0.0365\n",
            "Epoch [13/20], Step [500/600], Loss: 0.0178\n",
            "Epoch [13/20], Step [600/600], Loss: 0.0118\n",
            "Epoch 13 loss=0.0475; accuracy=0.964\n",
            "Epoch [14/20], Step [100/600], Loss: 0.0469\n",
            "Epoch [14/20], Step [200/600], Loss: 0.0686\n",
            "Epoch [14/20], Step [300/600], Loss: 0.0422\n",
            "Epoch [14/20], Step [400/600], Loss: 0.0287\n",
            "Epoch [14/20], Step [500/600], Loss: 0.0246\n",
            "Epoch [14/20], Step [600/600], Loss: 0.0140\n",
            "Epoch 14 loss=0.0424; accuracy=0.965\n",
            "Epoch [15/20], Step [100/600], Loss: 0.0344\n",
            "Epoch [15/20], Step [200/600], Loss: 0.1852\n",
            "Epoch [15/20], Step [300/600], Loss: 0.0210\n",
            "Epoch [15/20], Step [400/600], Loss: 0.0355\n",
            "Epoch [15/20], Step [500/600], Loss: 0.0095\n",
            "Epoch [15/20], Step [600/600], Loss: 0.0183\n",
            "Epoch 15 loss=0.0375; accuracy=0.966\n",
            "Epoch [16/20], Step [100/600], Loss: 0.0355\n",
            "Epoch [16/20], Step [200/600], Loss: 0.0232\n",
            "Epoch [16/20], Step [300/600], Loss: 0.0034\n",
            "Epoch [16/20], Step [400/600], Loss: 0.0297\n",
            "Epoch [16/20], Step [500/600], Loss: 0.0178\n",
            "Epoch [16/20], Step [600/600], Loss: 0.0074\n",
            "Epoch 16 loss=0.0317; accuracy=0.964\n",
            "Epoch [17/20], Step [100/600], Loss: 0.0373\n",
            "Epoch [17/20], Step [200/600], Loss: 0.0373\n",
            "Epoch [17/20], Step [300/600], Loss: 0.0078\n",
            "Epoch [17/20], Step [400/600], Loss: 0.0046\n",
            "Epoch [17/20], Step [500/600], Loss: 0.0518\n",
            "Epoch [17/20], Step [600/600], Loss: 0.0104\n",
            "Epoch 17 loss=0.0293; accuracy=0.966\n",
            "Epoch [18/20], Step [100/600], Loss: 0.0170\n",
            "Epoch [18/20], Step [200/600], Loss: 0.0144\n",
            "Epoch [18/20], Step [300/600], Loss: 0.0097\n",
            "Epoch [18/20], Step [400/600], Loss: 0.0350\n",
            "Epoch [18/20], Step [500/600], Loss: 0.0197\n",
            "Epoch [18/20], Step [600/600], Loss: 0.0114\n",
            "Epoch 18 loss=0.0276; accuracy=0.968\n",
            "Epoch [19/20], Step [100/600], Loss: 0.0090\n",
            "Epoch [19/20], Step [200/600], Loss: 0.0286\n",
            "Epoch [19/20], Step [300/600], Loss: 0.0315\n",
            "Epoch [19/20], Step [400/600], Loss: 0.0473\n",
            "Epoch [19/20], Step [500/600], Loss: 0.0121\n",
            "Epoch [19/20], Step [600/600], Loss: 0.0096\n",
            "Epoch 19 loss=0.0250; accuracy=0.966\n",
            "Epoch [20/20], Step [100/600], Loss: 0.0034\n",
            "Epoch [20/20], Step [200/600], Loss: 0.0082\n",
            "Epoch [20/20], Step [300/600], Loss: 0.0384\n",
            "Epoch [20/20], Step [400/600], Loss: 0.0119\n",
            "Epoch [20/20], Step [500/600], Loss: 0.0044\n",
            "Epoch [20/20], Step [600/600], Loss: 0.0501\n",
            "Epoch 20 loss=0.0228; accuracy=0.966\n"
          ]
        }
      ],
      "source": [
        "epoch_train_loss_adlala = []\n",
        "train_loss_adlala = []\n",
        "accuracy_history_adlala = [eval_accuracy(net, test_gen)]\n",
        "\n",
        "for epoch in range(num_epochs):\n",
        "    acc_loss = 0\n",
        "    for i, (images,labels) in enumerate(train_gen):\n",
        "        images = Variable(images.view(-1,28*28)).cuda()\n",
        "        labels = Variable(labels).cuda()\n",
        "        outputs = net(images)\n",
        "\n",
        "        if i == 0 and epoch == 0:\n",
        "            output = net(images)\n",
        "            loss = loss_function(output, labels)\n",
        "\n",
        "            optimizer.zero_grad()\n",
        "            loss.backward(retain_graph=True)\n",
        "            optimizer.stepMom()\n",
        "\n",
        "        optimizer.stepAOA()\n",
        "        output = net(images)\n",
        "        loss = loss_function(output, labels)\n",
        "        optimizer.zero_grad()\n",
        "        loss.backward()\n",
        "        optimizer.stepB()\n",
        "\n",
        "        this_loss = loss.item()\n",
        "        train_loss_adlala.append(this_loss)\n",
        "        acc_loss += this_loss\n",
        "        if (i+1) % 100 == 0:\n",
        "            print('Epoch [%d/%d], Step [%d/%d], Loss: %.4f'\n",
        "                    %(epoch+1, num_epochs, i+1, len(train_data)//batch_size, this_loss))\n",
        "    epoch_loss = acc_loss / (len(train_data)//batch_size)\n",
        "    epoch_train_loss_adlala.append(epoch_loss)\n",
        "    this_accuracy = eval_accuracy(net, test_gen)\n",
        "    accuracy_history_adlala.append(this_accuracy)\n",
        "    print(f'Epoch {epoch+1} loss={epoch_loss:.4f}; accuracy={this_accuracy:.3f}')"
      ]
    },
    {
      "cell_type": "code",
      "execution_count": 10,
      "metadata": {
        "colab": {
          "base_uri": "https://localhost:8080/"
        },
        "id": "DTPvMW5jHB9X",
        "outputId": "354d6bce-9c6b-41c3-e32b-445f005f1037"
      },
      "outputs": [
        {
          "name": "stdout",
          "output_type": "stream",
          "text": [
            "The final accuracy is: 96.620000%\n"
          ]
        }
      ],
      "source": [
        "print(\n",
        "    f'The final accuracy is: {eval_accuracy(net, test_gen):%}'\n",
        ")"
      ]
    },
    {
      "cell_type": "code",
      "execution_count": 16,
      "metadata": {
        "colab": {
          "base_uri": "https://localhost:8080/",
          "height": 273
        },
        "id": "LVYsYfTUv6XC",
        "outputId": "f67e33a9-23fc-4d27-f747-02accc1f369f"
      },
      "outputs": [
        {
          "data": {
            "text/plain": [
              "Text(0.5, 1.0, 'train loss')"
            ]
          },
          "execution_count": 16,
          "metadata": {},
          "output_type": "execute_result"
        },
        {
          "data": {
            "image/png": "[encoded data removed]",
            "text/plain": [
              "<Figure size 1200x400 with 2 Axes>"
            ]
          },
          "metadata": {},
          "output_type": "display_data"
        }
      ],
      "source": [
        "fig, axs = plt.subplots(1, 2, figsize=(12, 4))\n",
        "axs[0].plot(accuracy_history, label='adam')\n",
        "axs[0].plot(accuracy_history_adlala, label='adlala')\n",
        "axs[0].legend()\n",
        "axs[0].grid()\n",
        "axs[0].set_title('accuracy')\n",
        "if False:\n",
        "    # average loss per epoch\n",
        "    loss_to_plot = epoch_train_loss\n",
        "    loss_to_plot_adlala = epoch_train_loss_adlala\n",
        "else:\n",
        "    # sliding average of the loss per step\n",
        "    loss_to_plot = np.convolve(train_loss, [1/27]*27)\n",
        "    loss_to_plot_adlala = np.convolve(train_loss_adlala, [1/27]*27)\n",
        "axs[1].plot(loss_to_plot, label='adam')\n",
        "axs[1].plot(loss_to_plot_adlala, label='adlala')\n",
        "axs[1].legend()\n",
        "axs[1].grid()\n",
        "axs[1].set_title('train loss')\n"
      ]
    },
    {
      "cell_type": "code",
      "execution_count": 11,
      "metadata": {
        "id": "pXrvNTiYH6Tc"
      },
      "outputs": [],
      "source": [
        "from PIL import Image\n",
        "import pathlib\n",
        "\n",
        "all_images = []\n",
        "\n",
        "for path in pathlib.Path('mnist-custom-data').glob('*.jpeg'):\n",
        "    img = Image.open(path)\n",
        "\n",
        "    img = img.resize((28, 28))\n",
        "    img = np.array(img).astype(float)\n",
        "    img = np.mean(img, axis=2)\n",
        "    img /= 255.\n",
        "    img = 1. - img\n",
        "    all_images.append(img)"
      ]
    },
    {
      "cell_type": "code",
      "execution_count": 12,
      "metadata": {
        "colab": {
          "base_uri": "https://localhost:8080/",
          "height": 372
        },
        "id": "1SO7seA6IATB",
        "outputId": "5446acd3-13a1-4e7d-f064-a73ca3e9367c"
      },
      "outputs": [
        {
          "data": {
            "image/png": "[encoded data removed]",
            "text/plain": [
              "<Figure size 400x400 with 9 Axes>"
            ]
          },
          "metadata": {},
          "output_type": "display_data"
        }
      ],
      "source": [
        "fig, axs = plt.subplots(3, 3, figsize=(4, 4))\n",
        "for i, el in enumerate(all_images):\n",
        "    axs[i // 3, i % 3].imshow(el)"
      ]
    },
    {
      "cell_type": "code",
      "execution_count": 13,
      "metadata": {
        "id": "YucDVGtyrc2o"
      },
      "outputs": [],
      "source": [
        "all_images_numpy = np.array(all_images)\n",
        "all_images_numpy = (all_images_numpy - 0.1307)/0.3081"
      ]
    },
    {
      "cell_type": "code",
      "execution_count": 16,
      "metadata": {
        "colab": {
          "base_uri": "https://localhost:8080/"
        },
        "id": "ISTqKgD9MumU",
        "outputId": "bbf8c9cf-c0ea-499f-9957-dd0409fa7714"
      },
      "outputs": [
        {
          "name": "stdout",
          "output_type": "stream",
          "text": [
            "tensor([0, 1, 2, 3, 4, 5, 7, 8, 3], device='cuda:0')\n"
          ]
        }
      ],
      "source": [
        "img_pytorch = torch.Tensor(all_images_numpy.reshape(-1, 28*28)).cuda()\n",
        "res = net(img_pytorch)\n",
        "_, pred = torch.max(res, 1)\n",
        "print(pred)"
      ]
    },
    {
      "cell_type": "code",
      "execution_count": null,
      "metadata": {
        "id": "D1C0sLnCrxpq"
      },
      "outputs": [],
      "source": []
    }
  ],
  "metadata": {
    "accelerator": "GPU",
    "colab": {
      "provenance": []
    },
    "kernelspec": {
      "display_name": "Python 3",
      "name": "python3"
    },
    "language_info": {
      "codemirror_mode": {
        "name": "ipython",
        "version": 3
      },
      "file_extension": ".py",
      "mimetype": "text/x-python",
      "name": "python",
      "nbconvert_exporter": "python",
      "pygments_lexer": "ipython3",
      "version": "3.11.2"
    }
  },
  "nbformat": 4,
  "nbformat_minor": 0
}
